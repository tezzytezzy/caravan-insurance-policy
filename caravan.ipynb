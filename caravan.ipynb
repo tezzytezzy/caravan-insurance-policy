{
 "cells": [
  {
   "cell_type": "markdown",
   "metadata": {},
   "source": [
    "# Data Munging"
   ]
  },
  {
   "cell_type": "code",
   "execution_count": 1,
   "metadata": {},
   "outputs": [],
   "source": [
    "import pandas as pd\n",
    "import numpy as np\n",
    "\n",
    "# header=0 doens't work, header=None simply inserts intergers as column names\n",
    "df_raw = pd.read_csv(r\"./ticdata2000.txt\", sep='\\t', header=None, low_memory=False) # Training set\n",
    "X_test = pd.read_csv(r\"./ticeval2000.txt\", sep='\\t', header=None, low_memory=False) # Test set"
   ]
  },
  {
   "cell_type": "code",
   "execution_count": 2,
   "metadata": {},
   "outputs": [],
   "source": [
    "def display_all(df):\n",
    "    with pd.option_context(\"display.max_rows\", 1000, \"display.max_columns\", 1000): \n",
    "        display(df)"
   ]
  },
  {
   "cell_type": "code",
   "execution_count": 3,
   "metadata": {},
   "outputs": [],
   "source": [
    "### DEPRECATED BY THE FOLLOWING CELL ###\n",
    "\n",
    "# def get_item_description(start_row, end_row, from_nth_field_onward):\n",
    "#     \"\"\"\n",
    "#     RETURN: A list of extracted item names\n",
    "#     start_row: Starting row number of dictionary.txt\n",
    "#     end_row: Ending row number of dictionary.txt\n",
    "#     from_nth_field_onward: Take out a n-th field, delimited by space, and further to the right\n",
    "#     \"\"\"\n",
    "    \n",
    "#     # Thought of returning a ndarray but a \"DeprecationWarning: \n",
    "#     #  \"using a non-integer array as obj in delete will result in an error in the future\"\n",
    "#     import subprocess\n",
    "    \n",
    "#     unix_shell_command = 'awk \\'NR>={0}&&NR<={1}\\' \"./dictionary.txt\" | cut -d\\  -f{2}- '.format(start_row, end_row, from_nth_field_onward)\n",
    "    \n",
    "#     headers = subprocess.check_output(unix_shell_command, shell=True)\n",
    "    \n",
    "#     #headers = subprocess.check_output('awk \\'NR>=' + str(start_row) + '&&NR<=' + str(end_row) + '\\' \"./dictionary.txt\" | cut -d\\  -f3- ', shell=True)\n",
    "#     #headers = subprocess.check_output('awk \\'NR>=4&&NR<=89\\' \"./dictionary.txt\" | cut -d\\  -f3- ', shell=True)\n",
    "#     # awk \\'NR>=4&&NR<=89\\' \"./dictionary.txt\" => take lines between 4 and 89, both incluive\n",
    "#     #  (NOTE: escape character of \"\\\" before ')\n",
    "#     # cut -d\\  -f3- => delimiter of a single space with escape character of \"\\\" and\n",
    "#     #  taking in the 3rd field onwards until end of the line\n",
    "#     # This returns byte string e.g., b'Customer Subtype see L0\\nNumber of...'\n",
    "\n",
    "#     # Alternative to 'subprocess.check_output' is as follows:\n",
    "#     # import os\n",
    "#     # os.system(\"command\")\n",
    "\n",
    "#     header_list = \"\".join(map(chr, headers)).split('\\n')\n",
    "#     # \"\".join(map(chr, headers)) => convert bytes to a string\n",
    "#     # .split('\\n') => put the produced string into a list delimited by a line feed\n",
    "\n",
    "#     header_list.pop()\n",
    "#     # Unfortuantely this leaves a zero-string list item at the very end i.e., (''), so take it out\n",
    "\n",
    "#     return header_list"
   ]
  },
  {
   "cell_type": "code",
   "execution_count": 4,
   "metadata": {},
   "outputs": [],
   "source": [
    "def collect_data(keyword, first_item_number, from_nth_field):\n",
    "    \"\"\"\n",
    "    RETURN:\n",
    "    A list of items in data file\n",
    "    \n",
    "    INPUT:\n",
    "    keyword: Below which section to start collecting data\n",
    "    first_item_number: Either 0 or 1, by which a first item is numbered\n",
    "    from_nth_field: The number on and which field to the end of line to extract, delimited by a single space ' '\n",
    "    \"\"\"\n",
    "\n",
    "    path_and_file_name_of_dictionary = \"./dictionary.txt\" # In relation to this ipynb file\n",
    "    item_list = []\n",
    "    \n",
    "    section_found = False\n",
    "    item_found = False\n",
    "    end_of_info = False\n",
    "\n",
    "    # Without \"encoding=\"ISO-8859-1\", non-printbale character spits \"UnicodeDecodeError: 'utf-8' codec can't decode...\"\n",
    "    with open (path_and_file_name_of_dictionary, 'rt', encoding=\"ISO-8859-1\") as myfile:\n",
    "        for a_line in myfile:\n",
    "            if (not end_of_info):\n",
    "                if (not section_found) and (a_line[:len(keyword)] == keyword):\n",
    "                    section_found = True\n",
    "                elif section_found and (a_line[0]== str(first_item_number) or item_found):\n",
    "                    if a_line == '\\n':\n",
    "                        end_of_info = True\n",
    "                    else:\n",
    "                        item_name = ''\n",
    "                        field_list = a_line.split()\n",
    "\n",
    "                        for idx in range(from_nth_field - 1, len(field_list)):\n",
    "                            item_name = item_name + ' ' + field_list[idx]\n",
    "\n",
    "                        item_list.append(item_name[1:len(item_name)])\n",
    "                        item_found = True\n",
    "            else:\n",
    "                return item_list\n",
    "    return item_list # When reaching end of file, this line gets executed for 'L4'"
   ]
  },
  {
   "cell_type": "code",
   "execution_count": 5,
   "metadata": {},
   "outputs": [],
   "source": [
    "def fetch_list_item(nd_array, keyword, from_nth_index = 0):\n",
    "    \"\"\"\n",
    "    RETURN:\n",
    "    A tuple of matched item AND index number \n",
    "    \n",
    "    INPUT:\n",
    "    keyword: By which to search column name\n",
    "    from_nth_index: Perform \"exact\" search to see if string match FROM the end of string ONLY\n",
    "    \"\"\"\n",
    "    \n",
    "    for index, item in enumerate(nd_array):\n",
    "        if index >= from_nth_index:\n",
    "            if item[-len(keyword):] == keyword:\n",
    "                return index, item\n",
    "    return None"
   ]
  },
  {
   "cell_type": "code",
   "execution_count": 6,
   "metadata": {},
   "outputs": [],
   "source": [
    "def remove_duplicate(df_series, dictionary, offset):\n",
    "    \"\"\"\n",
    "    RETURN:\n",
    "    A list without a duplicate\n",
    "    \n",
    "    INPUT:\n",
    "    df_series: A DataFrame Series, i.e., one-column DataFrame\n",
    "    dictionary: A list of items in the look-up dictionary\n",
    "    offset: Either 0 or 1, by which to offset raw data numbers as the dicionary is always 0-based\n",
    "    \"\"\"\n",
    "    \n",
    "    # Create a ndarray from a DataFrame column\n",
    "    nd_array_data = df_series.to_numpy()\n",
    "    \n",
    "    # DEBUG np.savetxt(r\"./test_start.txt\", nd_array_data)\n",
    "    \n",
    "    duplicate_items = []\n",
    "    \n",
    "    for index, item in enumerate(dictionary):\n",
    "        if dictionary.count(item) > 1:\n",
    "            res =  fetch_list_item(dictionary, item, index+1)\n",
    "            if res is not None:\n",
    "            # Locate the index of the OTHER duplicate, to be kept and aligned, from the beginning of the list\n",
    "                duplicate_num, _ = res\n",
    "\n",
    "                duplicate_items.append([index, duplicate_num])\n",
    "    \n",
    "    # Finally take out the duplicates        \n",
    "    for dup in duplicate_items:\n",
    "        dictionary.pop(dup[0]) \n",
    "        \n",
    "        # The subsequent items of the found duplicate must be pushed forward by subtracting 1, to have it aligned with dictionary.txt\n",
    "        nd_array_data = np.where(nd_array_data>dup[0], nd_array_data - 1, nd_array_data)\n",
    "        \n",
    "        # Now replace the duplicate index with the OTHER index of its identical entry\n",
    "        nd_array_data[np.where(nd_array_data==dup[0])] = dup[1]\n",
    "\n",
    "    # Adjust raw data numbers where its corresponding column/field in the dectionary list has 1-based order\n",
    "    nd_array_data = nd_array_data - offset\n",
    "    \n",
    "    return dictionary, nd_array_data"
   ]
  },
  {
   "cell_type": "code",
   "execution_count": 7,
   "metadata": {},
   "outputs": [],
   "source": [
    "def change_column_type_from_int64_to_category():\n",
    "    \"\"\"\n",
    "    Format DataFrame columns by replacing 'pure' indices in dictionary.txt with corresponding names\n",
    "    \"\"\"\n",
    "    dictionary_label_prefix = 'L'\n",
    "    \n",
    "    data_tables = [[0, 1, 2], \n",
    "                     [1, 1, 2], \n",
    "                     [2, 1, 2], \n",
    "                     [3, 0, 2], \n",
    "                     [4, 0, 2]]\n",
    "    # 1st element: A number - prefixed with 'L' - whose table in the dictionary.txt describes further e.g., L0, L1, and L2\n",
    "    # 2nd element: N-based index in the dictionary.txt. Where it's 1 \n",
    "    #              we subtract 1 from the original data to make it zero(0)-based, so as to suit indexes of category type\n",
    "    # 3rd element: The number of n-th field in each line to be taken    \n",
    "\n",
    "    def remove_duplicate_and_assign_new_values(df, item):\n",
    "        label_list, new_values = remove_duplicate(df[item], \n",
    "                                                collect_data(dictionary_label_prefix + str(i[0]), i[1], i[2]),\n",
    "                                                i[1])\n",
    "            \n",
    "        df[item] = new_values\n",
    "    \n",
    "    for i in data_tables:\n",
    "        res = fetch_list_item(list_of_column_names,\n",
    "                              dictionary_label_prefix + str(i[0]),\n",
    "                              0)\n",
    "        if res is not None:\n",
    "            index, item = res\n",
    "            \n",
    "            remove_duplicate_and_assign_new_values(df_raw, item)\n",
    "            remove_duplicate_and_assign_new_values(X_test, item)\n",
    "            #label_list, new_values = remove_duplicate(df_raw[item], \n",
    "            #                                                    collect_data(dictionary_label_prefix + str(i[0]), i[1], i[2]),\n",
    "            #                                                    i[1])\n",
    "            \n",
    "            \n",
    "            #df_raw[item] = new_values\n",
    "            \n",
    "            ###\n",
    "            # The following fails to convert string to categorical variables for some reason!\n",
    "            ###\n",
    "            #df_raw[item] = df_raw[item].astype('category').cat.as_ordered()\n",
    "            #\n",
    "            #df_raw[item] = pd.CategoricalIndex(df_raw[item].map(dict(enumerate(label_list))),\n",
    "            #                                     ordered=True, \n",
    "            #                                     categories=label_list)\n",
    "            "
   ]
  },
  {
   "cell_type": "code",
   "execution_count": 8,
   "metadata": {},
   "outputs": [],
   "source": [
    "column_names = [[\"DATA DICTIONARY\", 1, 3]]\n",
    "list_of_column_names = collect_data(str(column_names[0][0]), column_names[0][1], column_names[0][2])\n",
    "\n",
    "df_raw.columns = list_of_column_names\n",
    "\n",
    "feature_labels = list_of_column_names[:-1]\n",
    "# Take out the last column 'Number of mobile home policies 0 - 1' as NOT included\n",
    "\n",
    "X_test.columns = feature_labels"
   ]
  },
  {
   "cell_type": "code",
   "execution_count": 11,
   "metadata": {},
   "outputs": [
    {
     "data": {
      "text/html": [
       "<div>\n",
       "<style scoped>\n",
       "    .dataframe tbody tr th:only-of-type {\n",
       "        vertical-align: middle;\n",
       "    }\n",
       "\n",
       "    .dataframe tbody tr th {\n",
       "        vertical-align: top;\n",
       "    }\n",
       "\n",
       "    .dataframe thead th {\n",
       "        text-align: right;\n",
       "    }\n",
       "</style>\n",
       "<table border=\"1\" class=\"dataframe\">\n",
       "  <thead>\n",
       "    <tr style=\"text-align: right;\">\n",
       "      <th></th>\n",
       "      <th>Customer Subtype see L0</th>\n",
       "      <th>Number of houses 1  10</th>\n",
       "      <th>Avg size household 1  6</th>\n",
       "      <th>Avg age see L1</th>\n",
       "      <th>Customer main type see L2</th>\n",
       "      <th>Roman catholic see L3</th>\n",
       "      <th>Protestant ...</th>\n",
       "      <th>Other religion</th>\n",
       "      <th>No religion</th>\n",
       "      <th>Married</th>\n",
       "      <th>...</th>\n",
       "      <th>Number of private accident insurance policies</th>\n",
       "      <th>Number of family accidents insurance policies</th>\n",
       "      <th>Number of disability insurance policies</th>\n",
       "      <th>Number of fire policies</th>\n",
       "      <th>Number of surfboard policies</th>\n",
       "      <th>Number of boat policies</th>\n",
       "      <th>Number of bicycle policies</th>\n",
       "      <th>Number of property insurance policies</th>\n",
       "      <th>Number of social security insurance policies</th>\n",
       "      <th>Number of mobile home policies 0 - 1</th>\n",
       "    </tr>\n",
       "  </thead>\n",
       "  <tbody>\n",
       "    <tr>\n",
       "      <th>0</th>\n",
       "      <td>33</td>\n",
       "      <td>1</td>\n",
       "      <td>3</td>\n",
       "      <td>2</td>\n",
       "      <td>8</td>\n",
       "      <td>0</td>\n",
       "      <td>5</td>\n",
       "      <td>1</td>\n",
       "      <td>3</td>\n",
       "      <td>7</td>\n",
       "      <td>...</td>\n",
       "      <td>0</td>\n",
       "      <td>0</td>\n",
       "      <td>0</td>\n",
       "      <td>1</td>\n",
       "      <td>0</td>\n",
       "      <td>0</td>\n",
       "      <td>0</td>\n",
       "      <td>0</td>\n",
       "      <td>0</td>\n",
       "      <td>0</td>\n",
       "    </tr>\n",
       "    <tr>\n",
       "      <th>1</th>\n",
       "      <td>37</td>\n",
       "      <td>1</td>\n",
       "      <td>2</td>\n",
       "      <td>2</td>\n",
       "      <td>8</td>\n",
       "      <td>1</td>\n",
       "      <td>4</td>\n",
       "      <td>1</td>\n",
       "      <td>4</td>\n",
       "      <td>6</td>\n",
       "      <td>...</td>\n",
       "      <td>0</td>\n",
       "      <td>0</td>\n",
       "      <td>0</td>\n",
       "      <td>1</td>\n",
       "      <td>0</td>\n",
       "      <td>0</td>\n",
       "      <td>0</td>\n",
       "      <td>0</td>\n",
       "      <td>0</td>\n",
       "      <td>0</td>\n",
       "    </tr>\n",
       "    <tr>\n",
       "      <th>2</th>\n",
       "      <td>37</td>\n",
       "      <td>1</td>\n",
       "      <td>2</td>\n",
       "      <td>2</td>\n",
       "      <td>8</td>\n",
       "      <td>0</td>\n",
       "      <td>4</td>\n",
       "      <td>2</td>\n",
       "      <td>4</td>\n",
       "      <td>3</td>\n",
       "      <td>...</td>\n",
       "      <td>0</td>\n",
       "      <td>0</td>\n",
       "      <td>0</td>\n",
       "      <td>1</td>\n",
       "      <td>0</td>\n",
       "      <td>0</td>\n",
       "      <td>0</td>\n",
       "      <td>0</td>\n",
       "      <td>0</td>\n",
       "      <td>0</td>\n",
       "    </tr>\n",
       "    <tr>\n",
       "      <th>3</th>\n",
       "      <td>9</td>\n",
       "      <td>1</td>\n",
       "      <td>3</td>\n",
       "      <td>3</td>\n",
       "      <td>3</td>\n",
       "      <td>2</td>\n",
       "      <td>3</td>\n",
       "      <td>2</td>\n",
       "      <td>4</td>\n",
       "      <td>5</td>\n",
       "      <td>...</td>\n",
       "      <td>0</td>\n",
       "      <td>0</td>\n",
       "      <td>0</td>\n",
       "      <td>1</td>\n",
       "      <td>0</td>\n",
       "      <td>0</td>\n",
       "      <td>0</td>\n",
       "      <td>0</td>\n",
       "      <td>0</td>\n",
       "      <td>0</td>\n",
       "    </tr>\n",
       "    <tr>\n",
       "      <th>4</th>\n",
       "      <td>40</td>\n",
       "      <td>1</td>\n",
       "      <td>4</td>\n",
       "      <td>2</td>\n",
       "      <td>10</td>\n",
       "      <td>1</td>\n",
       "      <td>4</td>\n",
       "      <td>1</td>\n",
       "      <td>4</td>\n",
       "      <td>7</td>\n",
       "      <td>...</td>\n",
       "      <td>0</td>\n",
       "      <td>0</td>\n",
       "      <td>0</td>\n",
       "      <td>1</td>\n",
       "      <td>0</td>\n",
       "      <td>0</td>\n",
       "      <td>0</td>\n",
       "      <td>0</td>\n",
       "      <td>0</td>\n",
       "      <td>0</td>\n",
       "    </tr>\n",
       "  </tbody>\n",
       "</table>\n",
       "<p>5 rows × 86 columns</p>\n",
       "</div>"
      ],
      "text/plain": [
       "   Customer Subtype see L0  Number of houses 1  10  Avg size household 1  6  \\\n",
       "0                       33                        1                         3   \n",
       "1                       37                        1                         2   \n",
       "2                       37                        1                         2   \n",
       "3                        9                        1                         3   \n",
       "4                       40                        1                         4   \n",
       "\n",
       "   Avg age see L1  Customer main type see L2  Roman catholic see L3  \\\n",
       "0               2                          8                      0   \n",
       "1               2                          8                      1   \n",
       "2               2                          8                      0   \n",
       "3               3                          3                      2   \n",
       "4               2                         10                      1   \n",
       "\n",
       "   Protestant ...  Other religion  No religion  Married  ...  \\\n",
       "0               5               1            3        7  ...   \n",
       "1               4               1            4        6  ...   \n",
       "2               4               2            4        3  ...   \n",
       "3               3               2            4        5  ...   \n",
       "4               4               1            4        7  ...   \n",
       "\n",
       "   Number of private accident insurance policies  \\\n",
       "0                                              0   \n",
       "1                                              0   \n",
       "2                                              0   \n",
       "3                                              0   \n",
       "4                                              0   \n",
       "\n",
       "   Number of family accidents insurance policies  \\\n",
       "0                                              0   \n",
       "1                                              0   \n",
       "2                                              0   \n",
       "3                                              0   \n",
       "4                                              0   \n",
       "\n",
       "   Number of disability insurance policies  Number of fire policies  \\\n",
       "0                                        0                        1   \n",
       "1                                        0                        1   \n",
       "2                                        0                        1   \n",
       "3                                        0                        1   \n",
       "4                                        0                        1   \n",
       "\n",
       "   Number of surfboard policies  Number of boat policies  \\\n",
       "0                             0                        0   \n",
       "1                             0                        0   \n",
       "2                             0                        0   \n",
       "3                             0                        0   \n",
       "4                             0                        0   \n",
       "\n",
       "   Number of bicycle policies  Number of property insurance policies  \\\n",
       "0                           0                                      0   \n",
       "1                           0                                      0   \n",
       "2                           0                                      0   \n",
       "3                           0                                      0   \n",
       "4                           0                                      0   \n",
       "\n",
       "   Number of social security insurance policies  \\\n",
       "0                                             0   \n",
       "1                                             0   \n",
       "2                                             0   \n",
       "3                                             0   \n",
       "4                                             0   \n",
       "\n",
       "   Number of mobile home policies 0 - 1  \n",
       "0                                     0  \n",
       "1                                     0  \n",
       "2                                     0  \n",
       "3                                     0  \n",
       "4                                     0  \n",
       "\n",
       "[5 rows x 86 columns]"
      ]
     },
     "execution_count": 11,
     "metadata": {},
     "output_type": "execute_result"
    }
   ],
   "source": [
    "df_raw.head()"
   ]
  },
  {
   "cell_type": "code",
   "execution_count": 12,
   "metadata": {},
   "outputs": [],
   "source": [
    "change_column_type_from_int64_to_category()"
   ]
  },
  {
   "cell_type": "code",
   "execution_count": 13,
   "metadata": {},
   "outputs": [
    {
     "data": {
      "text/html": [
       "<div>\n",
       "<style scoped>\n",
       "    .dataframe tbody tr th:only-of-type {\n",
       "        vertical-align: middle;\n",
       "    }\n",
       "\n",
       "    .dataframe tbody tr th {\n",
       "        vertical-align: top;\n",
       "    }\n",
       "\n",
       "    .dataframe thead th {\n",
       "        text-align: right;\n",
       "    }\n",
       "</style>\n",
       "<table border=\"1\" class=\"dataframe\">\n",
       "  <thead>\n",
       "    <tr style=\"text-align: right;\">\n",
       "      <th></th>\n",
       "      <th>Customer Subtype see L0</th>\n",
       "      <th>Number of houses 1  10</th>\n",
       "      <th>Avg size household 1  6</th>\n",
       "      <th>Avg age see L1</th>\n",
       "      <th>Customer main type see L2</th>\n",
       "      <th>Roman catholic see L3</th>\n",
       "      <th>Protestant ...</th>\n",
       "      <th>Other religion</th>\n",
       "      <th>No religion</th>\n",
       "      <th>Married</th>\n",
       "      <th>...</th>\n",
       "      <th>Number of private accident insurance policies</th>\n",
       "      <th>Number of family accidents insurance policies</th>\n",
       "      <th>Number of disability insurance policies</th>\n",
       "      <th>Number of fire policies</th>\n",
       "      <th>Number of surfboard policies</th>\n",
       "      <th>Number of boat policies</th>\n",
       "      <th>Number of bicycle policies</th>\n",
       "      <th>Number of property insurance policies</th>\n",
       "      <th>Number of social security insurance policies</th>\n",
       "      <th>Number of mobile home policies 0 - 1</th>\n",
       "    </tr>\n",
       "  </thead>\n",
       "  <tbody>\n",
       "    <tr>\n",
       "      <th>0</th>\n",
       "      <td>31</td>\n",
       "      <td>1</td>\n",
       "      <td>3</td>\n",
       "      <td>1</td>\n",
       "      <td>7</td>\n",
       "      <td>0</td>\n",
       "      <td>5</td>\n",
       "      <td>1</td>\n",
       "      <td>3</td>\n",
       "      <td>7</td>\n",
       "      <td>...</td>\n",
       "      <td>0</td>\n",
       "      <td>0</td>\n",
       "      <td>0</td>\n",
       "      <td>1</td>\n",
       "      <td>0</td>\n",
       "      <td>0</td>\n",
       "      <td>0</td>\n",
       "      <td>0</td>\n",
       "      <td>0</td>\n",
       "      <td>0</td>\n",
       "    </tr>\n",
       "    <tr>\n",
       "      <th>1</th>\n",
       "      <td>35</td>\n",
       "      <td>1</td>\n",
       "      <td>2</td>\n",
       "      <td>1</td>\n",
       "      <td>7</td>\n",
       "      <td>1</td>\n",
       "      <td>4</td>\n",
       "      <td>1</td>\n",
       "      <td>4</td>\n",
       "      <td>6</td>\n",
       "      <td>...</td>\n",
       "      <td>0</td>\n",
       "      <td>0</td>\n",
       "      <td>0</td>\n",
       "      <td>1</td>\n",
       "      <td>0</td>\n",
       "      <td>0</td>\n",
       "      <td>0</td>\n",
       "      <td>0</td>\n",
       "      <td>0</td>\n",
       "      <td>0</td>\n",
       "    </tr>\n",
       "    <tr>\n",
       "      <th>2</th>\n",
       "      <td>35</td>\n",
       "      <td>1</td>\n",
       "      <td>2</td>\n",
       "      <td>1</td>\n",
       "      <td>7</td>\n",
       "      <td>0</td>\n",
       "      <td>4</td>\n",
       "      <td>2</td>\n",
       "      <td>4</td>\n",
       "      <td>3</td>\n",
       "      <td>...</td>\n",
       "      <td>0</td>\n",
       "      <td>0</td>\n",
       "      <td>0</td>\n",
       "      <td>1</td>\n",
       "      <td>0</td>\n",
       "      <td>0</td>\n",
       "      <td>0</td>\n",
       "      <td>0</td>\n",
       "      <td>0</td>\n",
       "      <td>0</td>\n",
       "    </tr>\n",
       "    <tr>\n",
       "      <th>3</th>\n",
       "      <td>7</td>\n",
       "      <td>1</td>\n",
       "      <td>3</td>\n",
       "      <td>2</td>\n",
       "      <td>2</td>\n",
       "      <td>2</td>\n",
       "      <td>3</td>\n",
       "      <td>2</td>\n",
       "      <td>4</td>\n",
       "      <td>5</td>\n",
       "      <td>...</td>\n",
       "      <td>0</td>\n",
       "      <td>0</td>\n",
       "      <td>0</td>\n",
       "      <td>1</td>\n",
       "      <td>0</td>\n",
       "      <td>0</td>\n",
       "      <td>0</td>\n",
       "      <td>0</td>\n",
       "      <td>0</td>\n",
       "      <td>0</td>\n",
       "    </tr>\n",
       "    <tr>\n",
       "      <th>4</th>\n",
       "      <td>38</td>\n",
       "      <td>1</td>\n",
       "      <td>4</td>\n",
       "      <td>1</td>\n",
       "      <td>9</td>\n",
       "      <td>1</td>\n",
       "      <td>4</td>\n",
       "      <td>1</td>\n",
       "      <td>4</td>\n",
       "      <td>7</td>\n",
       "      <td>...</td>\n",
       "      <td>0</td>\n",
       "      <td>0</td>\n",
       "      <td>0</td>\n",
       "      <td>1</td>\n",
       "      <td>0</td>\n",
       "      <td>0</td>\n",
       "      <td>0</td>\n",
       "      <td>0</td>\n",
       "      <td>0</td>\n",
       "      <td>0</td>\n",
       "    </tr>\n",
       "  </tbody>\n",
       "</table>\n",
       "<p>5 rows × 86 columns</p>\n",
       "</div>"
      ],
      "text/plain": [
       "   Customer Subtype see L0  Number of houses 1  10  Avg size household 1  6  \\\n",
       "0                       31                        1                         3   \n",
       "1                       35                        1                         2   \n",
       "2                       35                        1                         2   \n",
       "3                        7                        1                         3   \n",
       "4                       38                        1                         4   \n",
       "\n",
       "   Avg age see L1  Customer main type see L2  Roman catholic see L3  \\\n",
       "0               1                          7                      0   \n",
       "1               1                          7                      1   \n",
       "2               1                          7                      0   \n",
       "3               2                          2                      2   \n",
       "4               1                          9                      1   \n",
       "\n",
       "   Protestant ...  Other religion  No religion  Married  ...  \\\n",
       "0               5               1            3        7  ...   \n",
       "1               4               1            4        6  ...   \n",
       "2               4               2            4        3  ...   \n",
       "3               3               2            4        5  ...   \n",
       "4               4               1            4        7  ...   \n",
       "\n",
       "   Number of private accident insurance policies  \\\n",
       "0                                              0   \n",
       "1                                              0   \n",
       "2                                              0   \n",
       "3                                              0   \n",
       "4                                              0   \n",
       "\n",
       "   Number of family accidents insurance policies  \\\n",
       "0                                              0   \n",
       "1                                              0   \n",
       "2                                              0   \n",
       "3                                              0   \n",
       "4                                              0   \n",
       "\n",
       "   Number of disability insurance policies  Number of fire policies  \\\n",
       "0                                        0                        1   \n",
       "1                                        0                        1   \n",
       "2                                        0                        1   \n",
       "3                                        0                        1   \n",
       "4                                        0                        1   \n",
       "\n",
       "   Number of surfboard policies  Number of boat policies  \\\n",
       "0                             0                        0   \n",
       "1                             0                        0   \n",
       "2                             0                        0   \n",
       "3                             0                        0   \n",
       "4                             0                        0   \n",
       "\n",
       "   Number of bicycle policies  Number of property insurance policies  \\\n",
       "0                           0                                      0   \n",
       "1                           0                                      0   \n",
       "2                           0                                      0   \n",
       "3                           0                                      0   \n",
       "4                           0                                      0   \n",
       "\n",
       "   Number of social security insurance policies  \\\n",
       "0                                             0   \n",
       "1                                             0   \n",
       "2                                             0   \n",
       "3                                             0   \n",
       "4                                             0   \n",
       "\n",
       "   Number of mobile home policies 0 - 1  \n",
       "0                                     0  \n",
       "1                                     0  \n",
       "2                                     0  \n",
       "3                                     0  \n",
       "4                                     0  \n",
       "\n",
       "[5 rows x 86 columns]"
      ]
     },
     "execution_count": 13,
     "metadata": {},
     "output_type": "execute_result"
    }
   ],
   "source": [
    "df_raw.head()"
   ]
  },
  {
   "cell_type": "code",
   "execution_count": 14,
   "metadata": {},
   "outputs": [],
   "source": [
    "df_raw.to_feather('formatted_raw_data')"
   ]
  },
  {
   "cell_type": "markdown",
   "metadata": {},
   "source": [
    "# Data Exploring"
   ]
  },
  {
   "cell_type": "code",
   "execution_count": 15,
   "metadata": {},
   "outputs": [],
   "source": [
    "df_raw = pd.read_feather('formatted_raw_data')"
   ]
  },
  {
   "cell_type": "code",
   "execution_count": 16,
   "metadata": {},
   "outputs": [],
   "source": [
    "from sklearn.ensemble import RandomForestClassifier\n",
    "from sklearn.model_selection import train_test_split\n",
    "import matplotlib.pyplot as plt"
   ]
  },
  {
   "cell_type": "markdown",
   "metadata": {},
   "source": [
    "Good benchmark to extract validation set out of training set is 20% according to Fast.ai's Jeremy Howard. Thus, train_size is set to **0.8** below. Also take a look at this descerning article (https://www.fast.ai/2017/11/13/validation-sets/).\n",
    "\n",
    "The sample is NOT a timeseries data and thus cross-validation can be a good candidate as well as out-of-bag hyperparameter in Random Forest."
   ]
  },
  {
   "cell_type": "code",
   "execution_count": 17,
   "metadata": {},
   "outputs": [
    {
     "name": "stderr",
     "output_type": "stream",
     "text": [
      "/home/to/miniconda3/envs/caravan/lib/python3.6/site-packages/sklearn/model_selection/_split.py:2179: FutureWarning: From version 0.21, test_size will always complement train_size unless both are specified.\n",
      "  FutureWarning)\n"
     ]
    },
    {
     "data": {
      "text/plain": [
       "((4657, 85), (1165, 85), (4657,), (1165,))"
      ]
     },
     "execution_count": 17,
     "metadata": {},
     "output_type": "execute_result"
    }
   ],
   "source": [
    "# Separate into 2 DataFrames:\n",
    "#  1. Target/Dependent value (Attribute 86, \"CARAVAN:Number of mobile home policies\") and \n",
    "#  2. Features\n",
    "\n",
    "# Tuple is zero-based, but columns is one-based\n",
    "col_idx = df_raw.shape[1]-1\n",
    "\n",
    "df_target = df_raw.iloc[:, col_idx]\n",
    "df_features = df_raw.drop(df_raw.columns[col_idx], axis='columns')\n",
    "\n",
    "# Use train_test_split to create train and validation set instead of test set, which we already have\n",
    "# Random seed is of course '42' due to 'The Hitchhiker's Guide to the Galaxy'!\n",
    "X_train, X_valid, y_train, y_valid = train_test_split(df_features, df_target, train_size=0.8, random_state=42)\n",
    "\n",
    "X_train.shape, X_valid.shape, y_train.shape, y_valid.shape"
   ]
  },
  {
   "cell_type": "markdown",
   "metadata": {},
   "source": [
    "Let's train a model!"
   ]
  },
  {
   "cell_type": "code",
   "execution_count": 18,
   "metadata": {},
   "outputs": [
    {
     "data": {
      "text/plain": [
       "0.9931286235774104"
      ]
     },
     "execution_count": 18,
     "metadata": {},
     "output_type": "execute_result"
    }
   ],
   "source": [
    "clf = RandomForestClassifier(n_estimators = 100, n_jobs = -1)\n",
    "# Take a default value of Python 3.7\n",
    "\n",
    "clf.fit(X_train, y_train)\n",
    "clf.score(X_train, y_train)"
   ]
  },
  {
   "cell_type": "markdown",
   "metadata": {},
   "source": [
    "R^2, a fit measure, is pretty good already."
   ]
  },
  {
   "cell_type": "code",
   "execution_count": 19,
   "metadata": {},
   "outputs": [
    {
     "data": {
      "text/plain": [
       "array([[0.995, 0.005],\n",
       "       [0.96 , 0.04 ],\n",
       "       [1.   , 0.   ],\n",
       "       ...,\n",
       "       [0.92 , 0.08 ],\n",
       "       [0.99 , 0.01 ],\n",
       "       [0.99 , 0.01 ]])"
      ]
     },
     "execution_count": 19,
     "metadata": {},
     "output_type": "execute_result"
    }
   ],
   "source": [
    "clf.predict_proba(X_valid)"
   ]
  },
  {
   "cell_type": "markdown",
   "metadata": {},
   "source": [
    "First column represents the model's calculation for probablity of zero (0), whereas second does one (1).\n",
    "\n",
    "When you see  [1.        , 0.        ]  it means the model predict zero (0) in 100% certainty."
   ]
  },
  {
   "cell_type": "code",
   "execution_count": 20,
   "metadata": {},
   "outputs": [],
   "source": [
    "# Build a confusion matrix: correctly predicted ones are diagonally displayed\n",
    "def build_confusion_matrix(clf, df_features, df_target):\n",
    "    df = pd.crosstab(df_target, clf.predict(df_features), rownames=['Actual Classes'], colnames=['Predicted Classes'])\n",
    "    print (df)\n",
    "    count_correct_incorrect_total(df)\n",
    "    "
   ]
  },
  {
   "cell_type": "code",
   "execution_count": 21,
   "metadata": {},
   "outputs": [],
   "source": [
    "def count_correct_incorrect_total(df):\n",
    "    correct_sum = 0\n",
    "    total_sum = 0\n",
    "    \n",
    "    num_classes = len(df.index)    \n",
    "    \n",
    "    for i in range(num_classes):\n",
    "        for j in range(num_classes):\n",
    "            total_sum += df.loc[i, j]\n",
    "            if i == j:\n",
    "                correct_sum += df.loc[i, j]\n",
    "\n",
    "    print (\"\\nCorrect: {0:,}, Incorrect: {1:,}, Total: {2:,} => Accuracy: {3:.4f}%\".format(correct_sum, \n",
    "                                                                                   total_sum - correct_sum, \n",
    "                                                                                   total_sum,\n",
    "                                                                                   correct_sum / total_sum * 100))"
   ]
  },
  {
   "cell_type": "code",
   "execution_count": 22,
   "metadata": {},
   "outputs": [
    {
     "name": "stdout",
     "output_type": "stream",
     "text": [
      "Predicted Classes     0   1\n",
      "Actual Classes             \n",
      "0                  1064  20\n",
      "1                    78   3\n",
      "\n",
      "Correct: 1,067, Incorrect: 98, Total: 1,165 => Accuracy: 91.5880%\n"
     ]
    }
   ],
   "source": [
    "build_confusion_matrix(clf, X_valid, y_valid)"
   ]
  },
  {
   "cell_type": "markdown",
   "metadata": {},
   "source": [
    "True positive [0, 0] and true negative [1,1] are correct predicitons.\n",
    "\n",
    "Now we apply this model to test set."
   ]
  },
  {
   "cell_type": "code",
   "execution_count": 23,
   "metadata": {},
   "outputs": [
    {
     "data": {
      "text/plain": [
       "array([[0.91 , 0.09 ],\n",
       "       [0.596, 0.404],\n",
       "       [0.9  , 0.1  ],\n",
       "       ...,\n",
       "       [0.96 , 0.04 ],\n",
       "       [0.99 , 0.01 ],\n",
       "       [0.93 , 0.07 ]])"
      ]
     },
     "execution_count": 23,
     "metadata": {},
     "output_type": "execute_result"
    }
   ],
   "source": [
    "y_test = pd.read_csv(r\"./tictgts2000.txt\", sep='\\t', header=None, low_memory=False)\n",
    "# At this point, type(y_test) is pandas.core.frame.DataFrame, which is NOT appropriate input for RandomForestClassifer\n",
    "# y_test.shape  = (4000, 1)\n",
    "\n",
    "y_test = y_test.iloc[:, 0]\n",
    "# This above converts to pandas.core.series.Series\n",
    "# y_test.shape  = (4000,)\n",
    "# ':' creates a 'deep' copy\n",
    "\n",
    "clf.predict_proba(X_test)"
   ]
  },
  {
   "cell_type": "code",
   "execution_count": 24,
   "metadata": {},
   "outputs": [
    {
     "name": "stdout",
     "output_type": "stream",
     "text": [
      "Predicted Classes     0   1\n",
      "Actual Classes             \n",
      "0                  3725  37\n",
      "1                   221  17\n",
      "\n",
      "Correct: 3,742, Incorrect: 258, Total: 4,000 => Accuracy: 93.5500%\n"
     ]
    }
   ],
   "source": [
    "build_confusion_matrix(clf, X_test, y_test)"
   ]
  },
  {
   "cell_type": "markdown",
   "metadata": {},
   "source": [
    "I will stop right here to discuss perhaps the **most** salient process of data scienece."
   ]
  },
  {
   "cell_type": "markdown",
   "metadata": {},
   "source": [
    "# Reckoning on Feature Engineering vs. Hyperparameter Tuning"
   ]
  },
  {
   "cell_type": "markdown",
   "metadata": {},
   "source": [
    "I was so eager to get hyperparmerter tuning right from the very beginning and fell prey to this fallacy.\n",
    "\n",
    "Take a look at this article for a moment: https://towardsdatascience.com/why-you-should-do-feature-engineering-first-hyperparameter-tuning-second-as-a-data-scientist-334be5eb276c\n",
    "\n",
    "&emsp;\"You should focus more on getting good features (Feature Engineering) instead of optimizing your model’s hyperparameters (Hyperparameter Tuning). You see… If you don’t have good features that the model can learn from, it will not improve your model’s performance even though you have the optimum hyperparameter,”\n",
    "\n",
    "&emsp;\"... your model will not be able to learn the underlying “pattern” if the data isn’t representative enough to describe the problem that you’re trying to solve. And this is where the role of feature engineering comes into play.\"\n",
    "\n",
    "&emsp;\"having a strong business domain knowledge will let you understand more about the data that you have and generate new features based on its relevance and relationship.\"\n",
    "\n",
    "&emsp;\"Hyperparameters are crucial as they control the overall behaviour of a machine learning model. The ultimate goal is to find an optimal combination of hyperparameters that minimizes a predefined loss function to give better results.\""
   ]
  },
  {
   "cell_type": "markdown",
   "metadata": {},
   "source": [
    "# Feature Engineering"
   ]
  },
  {
   "cell_type": "code",
   "execution_count": 25,
   "metadata": {},
   "outputs": [],
   "source": [
    "def get_features_by_importance(classifier, return_col_names = True):\n",
    "    \"\"\"\n",
    "    RETURN:\n",
    "    A list of column numbers in the descending order of importance.\n",
    "     Where 'return_col_names' not passed at all or passed as True, ten a list of column names\n",
    "    \n",
    "    INPUT:\n",
    "    classifier: classifier object to be considered\n",
    "    return_col_names: If not passed at all or passed as True, this function return a list of column names, otherwise column numbers.\n",
    "    \"\"\"\n",
    "    \n",
    "    importances = classifier.feature_importances_\n",
    "    # The values of this feature_importances_ array sum to 1, unless all trees are single \n",
    "    #  node trees consisting of only the root node, in which case it will be an array of zeros\n",
    "    \n",
    "    std = np.std([tree.feature_importances_ for tree in classifier.estimators_],\n",
    "                 axis=0)\n",
    "    col_nums_by_importance = np.argsort(importances)[::-1]\n",
    "    \n",
    "    if return_col_names:\n",
    "        dict_col_names = dict(enumerate(feature_labels))\n",
    "        col_names = []\n",
    "        for i in range(len(col_nums_by_importance)):\n",
    "            col_names.append(dict_col_names.get(col_nums_by_importance[i], \"\"))\n",
    "\n",
    "    return col_names if return_col_names else col_nums_by_importance, importances[col_nums_by_importance]   \n",
    "    \n",
    "def show_feature_importance_stats(classifier, df, col_names_sorted, col_feature_scores, show_all_features = True):\n",
    "    \"\"\"\n",
    "    INPUT:\n",
    "    classifier: classifier object\n",
    "    df: DataFrame to be considered.\n",
    "    show_all_features: an int to show 'Top (int)' in importance. If not passed, show all the features.\n",
    "    \"\"\"\n",
    "    \n",
    "    feature_ranking_num = df.shape[1] if type(show_all_features) is bool else show_all_features\n",
    "    \n",
    "    print(\"Top Predictive Features:\")\n",
    "\n",
    "    col_labels = []\n",
    "    col_importance = []\n",
    "    \n",
    "    for f in range(feature_ranking_num):\n",
    "        #print(\"{0}. {1} ({2})\".format(f + 1, new_labels[f], importances[indices[f]]))\n",
    "        col_labels.append(col_names_sorted[f])\n",
    "        col_importance.append(col_feature_scores[f])\n",
    "        #col_importance.append(importances[indices[f]])\n",
    "    \n",
    "    df_ranking = pd.DataFrame({\"Feature\": col_labels, \"Importance\": col_importance})\n",
    "    df_ranking.style.set_properties(**{'text-align': 'left'})\n",
    "    dfStyler = df.style.set_properties(**{'text-align': 'left'})\n",
    "    dfStyler.set_table_styles([dict(selector='th', props=[('text-align', 'left')])])\n",
    "    print(df_ranking.to_string(index=False))\n",
    "\n",
    "    plt.figure()\n",
    "    plt.title(\"Feature importances\")\n",
    "    plt.barh(range(feature_ranking_num), col_feature_scores[:feature_ranking_num], color=\"y\")\n",
    "    #plt.set_yticklabels(new_labels[:feature_num])\n",
    "    plt.yticks(range(feature_ranking_num), col_names_sorted[:feature_ranking_num])\n",
    "    plt.ylim([-1, feature_ranking_num])\n",
    "    plt.show()"
   ]
  },
  {
   "cell_type": "code",
   "execution_count": 26,
   "metadata": {},
   "outputs": [
    {
     "name": "stdout",
     "output_type": "stream",
     "text": [
      "Top Predictive Features:\n",
      "                                           Feature  Importance\n",
      "                        Contribution fire policies    0.051069\n",
      "                            Number of car policies    0.040633\n",
      "                         Contribution car policies    0.038409\n",
      "                           Customer Subtype see L0    0.038031\n",
      " Contribution private third party insurance see L4    0.026204\n",
      "                            Purchasing power class    0.026090\n"
     ]
    },
    {
     "data": {
      "image/png": "[encoded data removed]",
      "text/plain": [
       "<Figure size 432x288 with 1 Axes>"
      ]
     },
     "metadata": {
      "needs_background": "light"
     },
     "output_type": "display_data"
    }
   ],
   "source": [
    "col_names_sorted, col_feature_scores = get_features_by_importance(clf, True)\n",
    "show_feature_importance_stats(clf, X_test, col_names_sorted, col_feature_scores, 6)"
   ]
  },
  {
   "cell_type": "markdown",
   "metadata": {},
   "source": [
    "Importance figures tell you how much predictive power features possess in raw numbers - just multiple them by 100 to get percentage figures. When all summed up it amounts to one (1).\n",
    "\n",
    "Now let's look at correlation between features to see if we can eliminate some."
   ]
  },
  {
   "cell_type": "code",
   "execution_count": 30,
   "metadata": {},
   "outputs": [
    {
     "ename": "ZeroDivisionError",
     "evalue": "division by zero",
     "output_type": "error",
     "traceback": [
      "\u001b[0;31m---------------------------------------------------------------------------\u001b[0m",
      "\u001b[0;31mZeroDivisionError\u001b[0m                         Traceback (most recent call last)",
      "\u001b[0;32m<ipython-input-30-c94d09587d32>\u001b[0m in \u001b[0;36m<module>\u001b[0;34m\u001b[0m\n\u001b[1;32m      9\u001b[0m     \u001b[0;32mreturn\u001b[0m \u001b[0mcorr\u001b[0m\u001b[0;34m.\u001b[0m\u001b[0mstyle\u001b[0m\u001b[0;34m.\u001b[0m\u001b[0mbackground_gradient\u001b[0m\u001b[0;34m(\u001b[0m\u001b[0mcmap\u001b[0m\u001b[0;34m=\u001b[0m\u001b[0;34m'coolwarm'\u001b[0m\u001b[0;34m)\u001b[0m\u001b[0;34m\u001b[0m\u001b[0;34m\u001b[0m\u001b[0m\n\u001b[1;32m     10\u001b[0m \u001b[0;34m\u001b[0m\u001b[0m\n\u001b[0;32m---> 11\u001b[0;31m \u001b[0mshow_correlation_among_features\u001b[0m\u001b[0;34m(\u001b[0m\u001b[0mclf\u001b[0m\u001b[0;34m,\u001b[0m \u001b[0mX_test\u001b[0m\u001b[0;34m,\u001b[0m \u001b[0;36m6\u001b[0m\u001b[0;34m)\u001b[0m\u001b[0;34m\u001b[0m\u001b[0;34m\u001b[0m\u001b[0m\n\u001b[0m",
      "\u001b[0;32m<ipython-input-30-c94d09587d32>\u001b[0m in \u001b[0;36mshow_correlation_among_features\u001b[0;34m(classifier, df, show_all_features)\u001b[0m\n\u001b[1;32m      6\u001b[0m \u001b[0;34m\u001b[0m\u001b[0m\n\u001b[1;32m      7\u001b[0m \u001b[0;32mdef\u001b[0m \u001b[0mshow_correlation_among_features\u001b[0m\u001b[0;34m(\u001b[0m\u001b[0mclassifier\u001b[0m\u001b[0;34m,\u001b[0m \u001b[0mdf\u001b[0m\u001b[0;34m,\u001b[0m \u001b[0mshow_all_features\u001b[0m \u001b[0;34m=\u001b[0m \u001b[0;32mTrue\u001b[0m\u001b[0;34m)\u001b[0m\u001b[0;34m:\u001b[0m\u001b[0;34m\u001b[0m\u001b[0;34m\u001b[0m\u001b[0m\n\u001b[0;32m----> 8\u001b[0;31m     \u001b[0mcorr\u001b[0m \u001b[0;34m=\u001b[0m \u001b[0mget_df_by_importance\u001b[0m\u001b[0;34m(\u001b[0m\u001b[0mclassifier\u001b[0m\u001b[0;34m,\u001b[0m \u001b[0mdf\u001b[0m\u001b[0;34m,\u001b[0m \u001b[0mshow_all_features\u001b[0m\u001b[0;34m)\u001b[0m\u001b[0;34m.\u001b[0m\u001b[0mcorr\u001b[0m\u001b[0;34m(\u001b[0m\u001b[0;34m)\u001b[0m\u001b[0;34m\u001b[0m\u001b[0;34m\u001b[0m\u001b[0m\n\u001b[0m\u001b[1;32m      9\u001b[0m     \u001b[0;32mreturn\u001b[0m \u001b[0mcorr\u001b[0m\u001b[0;34m.\u001b[0m\u001b[0mstyle\u001b[0m\u001b[0;34m.\u001b[0m\u001b[0mbackground_gradient\u001b[0m\u001b[0;34m(\u001b[0m\u001b[0mcmap\u001b[0m\u001b[0;34m=\u001b[0m\u001b[0;34m'coolwarm'\u001b[0m\u001b[0;34m)\u001b[0m\u001b[0;34m\u001b[0m\u001b[0;34m\u001b[0m\u001b[0m\n\u001b[1;32m     10\u001b[0m \u001b[0;34m\u001b[0m\u001b[0m\n",
      "\u001b[0;32m<ipython-input-30-c94d09587d32>\u001b[0m in \u001b[0;36mget_df_by_importance\u001b[0;34m(classifer, df, show_all_features)\u001b[0m\n\u001b[1;32m      2\u001b[0m     \u001b[0mfeature_ranking_num\u001b[0m \u001b[0;34m=\u001b[0m \u001b[0mdf\u001b[0m\u001b[0;34m.\u001b[0m\u001b[0mshape\u001b[0m\u001b[0;34m[\u001b[0m\u001b[0;36m1\u001b[0m\u001b[0;34m]\u001b[0m \u001b[0;32mif\u001b[0m \u001b[0mtype\u001b[0m\u001b[0;34m(\u001b[0m\u001b[0mshow_all_features\u001b[0m\u001b[0;34m)\u001b[0m \u001b[0;32mis\u001b[0m \u001b[0mbool\u001b[0m \u001b[0;32melse\u001b[0m \u001b[0mshow_all_features\u001b[0m\u001b[0;34m\u001b[0m\u001b[0;34m\u001b[0m\u001b[0m\n\u001b[1;32m      3\u001b[0m \u001b[0;34m\u001b[0m\u001b[0m\n\u001b[0;32m----> 4\u001b[0;31m     \u001b[0mcol_names\u001b[0m\u001b[0;34m,\u001b[0m \u001b[0m_\u001b[0m \u001b[0;34m=\u001b[0m  \u001b[0mget_features_by_importance\u001b[0m\u001b[0;34m(\u001b[0m\u001b[0mclassifer\u001b[0m\u001b[0;34m,\u001b[0m \u001b[0;32mTrue\u001b[0m\u001b[0;34m)\u001b[0m\u001b[0;34m\u001b[0m\u001b[0;34m\u001b[0m\u001b[0m\n\u001b[0m\u001b[1;32m      5\u001b[0m     \u001b[0;32mreturn\u001b[0m \u001b[0mdf\u001b[0m\u001b[0;34m[\u001b[0m\u001b[0mcol_names\u001b[0m\u001b[0;34m[\u001b[0m\u001b[0;34m:\u001b[0m\u001b[0mfeature_ranking_num\u001b[0m\u001b[0;34m]\u001b[0m\u001b[0;34m]\u001b[0m\u001b[0;34m\u001b[0m\u001b[0;34m\u001b[0m\u001b[0m\n\u001b[1;32m      6\u001b[0m \u001b[0;34m\u001b[0m\u001b[0m\n",
      "\u001b[0;32m<ipython-input-25-5a1a4a5087cc>\u001b[0m in \u001b[0;36mget_features_by_importance\u001b[0;34m(classifier, return_col_names)\u001b[0m\n\u001b[1;32m     10\u001b[0m     \"\"\"\n\u001b[1;32m     11\u001b[0m \u001b[0;34m\u001b[0m\u001b[0m\n\u001b[0;32m---> 12\u001b[0;31m     \u001b[0mimportances\u001b[0m \u001b[0;34m=\u001b[0m \u001b[0mclassifier\u001b[0m\u001b[0;34m.\u001b[0m\u001b[0mfeature_importances_\u001b[0m\u001b[0;34m\u001b[0m\u001b[0;34m\u001b[0m\u001b[0m\n\u001b[0m\u001b[1;32m     13\u001b[0m     \u001b[0;31m# The values of this feature_importances_ array sum to 1, unless all trees are single\u001b[0m\u001b[0;34m\u001b[0m\u001b[0;34m\u001b[0m\u001b[0;34m\u001b[0m\u001b[0m\n\u001b[1;32m     14\u001b[0m     \u001b[0;31m#  node trees consisting of only the root node, in which case it will be an array of zeros\u001b[0m\u001b[0;34m\u001b[0m\u001b[0;34m\u001b[0m\u001b[0;34m\u001b[0m\u001b[0m\n",
      "\u001b[0;32m~/miniconda3/envs/caravan/lib/python3.6/site-packages/sklearn/ensemble/forest.py\u001b[0m in \u001b[0;36mfeature_importances_\u001b[0;34m(self)\u001b[0m\n\u001b[1;32m    378\u001b[0m             for tree in self.estimators_)\n\u001b[1;32m    379\u001b[0m \u001b[0;34m\u001b[0m\u001b[0m\n\u001b[0;32m--> 380\u001b[0;31m         \u001b[0;32mreturn\u001b[0m \u001b[0msum\u001b[0m\u001b[0;34m(\u001b[0m\u001b[0mall_importances\u001b[0m\u001b[0;34m)\u001b[0m \u001b[0;34m/\u001b[0m \u001b[0mlen\u001b[0m\u001b[0;34m(\u001b[0m\u001b[0mself\u001b[0m\u001b[0;34m.\u001b[0m\u001b[0mestimators_\u001b[0m\u001b[0;34m)\u001b[0m\u001b[0;34m\u001b[0m\u001b[0;34m\u001b[0m\u001b[0m\n\u001b[0m\u001b[1;32m    381\u001b[0m \u001b[0;34m\u001b[0m\u001b[0m\n\u001b[1;32m    382\u001b[0m \u001b[0;34m\u001b[0m\u001b[0m\n",
      "\u001b[0;31mZeroDivisionError\u001b[0m: division by zero"
     ]
    }
   ],
   "source": [
    "def get_df_by_importance(classifer, df, show_all_features = True):\n",
    "    feature_ranking_num = df.shape[1] if type(show_all_features) is bool else show_all_features\n",
    "    \n",
    "    col_names, _ =  get_features_by_importance(classifer, True)\n",
    "    return df[col_names[:feature_ranking_num]]    \n",
    "\n",
    "def show_correlation_among_features(classifier, df, show_all_features = True):\n",
    "    corr = get_df_by_importance(classifier, df, show_all_features).corr()\n",
    "    return corr.style.background_gradient(cmap='coolwarm')\n",
    "\n",
    "show_correlation_among_features(clf, X_test, 6)"
   ]
  },
  {
   "cell_type": "markdown",
   "metadata": {},
   "source": [
    "We want to see the above as much **UNcorrelated** as possible. Otherwise, the predictive power of one of the pair is rather, hum, feeble and uncertain.\n",
    "\n",
    "'Number of car policies' and 'Contribution car policies' is the suspect without a doubt! So, let's eliminate 'Number of car policies'.\n",
    "\n",
    "Let's compare the two: one with 'Number of car policies' and the other without."
   ]
  },
  {
   "cell_type": "code",
   "execution_count": 29,
   "metadata": {},
   "outputs": [
    {
     "ename": "ZeroDivisionError",
     "evalue": "division by zero",
     "output_type": "error",
     "traceback": [
      "\u001b[0;31m---------------------------------------------------------------------------\u001b[0m",
      "\u001b[0;31mZeroDivisionError\u001b[0m                         Traceback (most recent call last)",
      "\u001b[0;32m<ipython-input-29-5fd7dc89e298>\u001b[0m in \u001b[0;36m<module>\u001b[0;34m\u001b[0m\n\u001b[0;32m----> 1\u001b[0;31m \u001b[0mX_test_col_culled\u001b[0m \u001b[0;34m=\u001b[0m \u001b[0mget_df_by_importance\u001b[0m\u001b[0;34m(\u001b[0m\u001b[0mclf\u001b[0m\u001b[0;34m,\u001b[0m \u001b[0mX_test\u001b[0m\u001b[0;34m,\u001b[0m \u001b[0;36m6\u001b[0m\u001b[0;34m)\u001b[0m\u001b[0;34m\u001b[0m\u001b[0;34m\u001b[0m\u001b[0m\n\u001b[0m\u001b[1;32m      2\u001b[0m \u001b[0mX_test_col_culled\u001b[0m\u001b[0;34m.\u001b[0m\u001b[0mhead\u001b[0m\u001b[0;34m(\u001b[0m\u001b[0;34m)\u001b[0m\u001b[0;34m\u001b[0m\u001b[0;34m\u001b[0m\u001b[0m\n\u001b[1;32m      3\u001b[0m \u001b[0;34m\u001b[0m\u001b[0m\n\u001b[1;32m      4\u001b[0m \u001b[0;34m\u001b[0m\u001b[0m\n\u001b[1;32m      5\u001b[0m \u001b[0;31m# clf.fit(df_test_col_culled, y_train)\u001b[0m\u001b[0;34m\u001b[0m\u001b[0;34m\u001b[0m\u001b[0;34m\u001b[0m\u001b[0m\n",
      "\u001b[0;32m<ipython-input-27-7e0fbf2c4916>\u001b[0m in \u001b[0;36mget_df_by_importance\u001b[0;34m(classifer, df, show_all_features)\u001b[0m\n\u001b[1;32m      2\u001b[0m     \u001b[0mfeature_ranking_num\u001b[0m \u001b[0;34m=\u001b[0m \u001b[0mdf\u001b[0m\u001b[0;34m.\u001b[0m\u001b[0mshape\u001b[0m\u001b[0;34m[\u001b[0m\u001b[0;36m1\u001b[0m\u001b[0;34m]\u001b[0m \u001b[0;32mif\u001b[0m \u001b[0mtype\u001b[0m\u001b[0;34m(\u001b[0m\u001b[0mshow_all_features\u001b[0m\u001b[0;34m)\u001b[0m \u001b[0;32mis\u001b[0m \u001b[0mbool\u001b[0m \u001b[0;32melse\u001b[0m \u001b[0mshow_all_features\u001b[0m\u001b[0;34m\u001b[0m\u001b[0;34m\u001b[0m\u001b[0m\n\u001b[1;32m      3\u001b[0m \u001b[0;34m\u001b[0m\u001b[0m\n\u001b[0;32m----> 4\u001b[0;31m     \u001b[0mcol_names\u001b[0m\u001b[0;34m,\u001b[0m \u001b[0m_\u001b[0m \u001b[0;34m=\u001b[0m  \u001b[0mget_features_by_importance\u001b[0m\u001b[0;34m(\u001b[0m\u001b[0mclassifer\u001b[0m\u001b[0;34m,\u001b[0m \u001b[0;32mTrue\u001b[0m\u001b[0;34m)\u001b[0m\u001b[0;34m\u001b[0m\u001b[0;34m\u001b[0m\u001b[0m\n\u001b[0m\u001b[1;32m      5\u001b[0m     \u001b[0;32mreturn\u001b[0m \u001b[0mdf\u001b[0m\u001b[0;34m[\u001b[0m\u001b[0mcol_names\u001b[0m\u001b[0;34m[\u001b[0m\u001b[0;34m:\u001b[0m\u001b[0mfeature_ranking_num\u001b[0m\u001b[0;34m]\u001b[0m\u001b[0;34m]\u001b[0m\u001b[0;34m\u001b[0m\u001b[0;34m\u001b[0m\u001b[0m\n\u001b[1;32m      6\u001b[0m \u001b[0;34m\u001b[0m\u001b[0m\n",
      "\u001b[0;32m<ipython-input-25-5a1a4a5087cc>\u001b[0m in \u001b[0;36mget_features_by_importance\u001b[0;34m(classifier, return_col_names)\u001b[0m\n\u001b[1;32m     10\u001b[0m     \"\"\"\n\u001b[1;32m     11\u001b[0m \u001b[0;34m\u001b[0m\u001b[0m\n\u001b[0;32m---> 12\u001b[0;31m     \u001b[0mimportances\u001b[0m \u001b[0;34m=\u001b[0m \u001b[0mclassifier\u001b[0m\u001b[0;34m.\u001b[0m\u001b[0mfeature_importances_\u001b[0m\u001b[0;34m\u001b[0m\u001b[0;34m\u001b[0m\u001b[0m\n\u001b[0m\u001b[1;32m     13\u001b[0m     \u001b[0;31m# The values of this feature_importances_ array sum to 1, unless all trees are single\u001b[0m\u001b[0;34m\u001b[0m\u001b[0;34m\u001b[0m\u001b[0;34m\u001b[0m\u001b[0m\n\u001b[1;32m     14\u001b[0m     \u001b[0;31m#  node trees consisting of only the root node, in which case it will be an array of zeros\u001b[0m\u001b[0;34m\u001b[0m\u001b[0;34m\u001b[0m\u001b[0;34m\u001b[0m\u001b[0m\n",
      "\u001b[0;32m~/miniconda3/envs/caravan/lib/python3.6/site-packages/sklearn/ensemble/forest.py\u001b[0m in \u001b[0;36mfeature_importances_\u001b[0;34m(self)\u001b[0m\n\u001b[1;32m    378\u001b[0m             for tree in self.estimators_)\n\u001b[1;32m    379\u001b[0m \u001b[0;34m\u001b[0m\u001b[0m\n\u001b[0;32m--> 380\u001b[0;31m         \u001b[0;32mreturn\u001b[0m \u001b[0msum\u001b[0m\u001b[0;34m(\u001b[0m\u001b[0mall_importances\u001b[0m\u001b[0;34m)\u001b[0m \u001b[0;34m/\u001b[0m \u001b[0mlen\u001b[0m\u001b[0;34m(\u001b[0m\u001b[0mself\u001b[0m\u001b[0;34m.\u001b[0m\u001b[0mestimators_\u001b[0m\u001b[0;34m)\u001b[0m\u001b[0;34m\u001b[0m\u001b[0;34m\u001b[0m\u001b[0m\n\u001b[0m\u001b[1;32m    381\u001b[0m \u001b[0;34m\u001b[0m\u001b[0m\n\u001b[1;32m    382\u001b[0m \u001b[0;34m\u001b[0m\u001b[0m\n",
      "\u001b[0;31mZeroDivisionError\u001b[0m: division by zero"
     ]
    }
   ],
   "source": [
    "X_test_col_culled = get_df_by_importance(clf, X_test, 6)\n",
    "X_test_col_culled.head()\n",
    "\n",
    "\n",
    "# clf.fit(df_test_col_culled, y_train)\n",
    "# clf.score(df_test_col_culled, y_train)\n",
    "# build_confusion_matrix(clf, df_test_col_culled, y_test)"
   ]
  },
  {
   "cell_type": "code",
   "execution_count": 63,
   "metadata": {
    "scrolled": true
   },
   "outputs": [
    {
     "data": {
      "text/plain": [
       "(array([0., 0., 0., 0., 0., 0., 0., 0., 0., 0., 0., 0., 0., 0., 0., 0., 0.,\n",
       "        0., 0., 0., 0., 0., 0., 0., 0., 0., 0., 0., 0., 0., 0., 0., 0., 0.,\n",
       "        0., 0., 0., 0., 0., 0., 0., 0., 0., 0., 0., 0., 0., 0., 0., 0., 0.,\n",
       "        0., 0., 0., 0., 0., 0., 0., 0., 0., 0., 0., 0., 0., 0., 0., 0., 0.,\n",
       "        0., 0., 0., 0., 0., 0., 0., 0., 0., 0., 0., 0., 0., 0., 0., 0., 0.,\n",
       "        0., 0., 0., 0., 0., 0., 0., 0., 0., 0., 0., 0., 0., 0., 0., 0., 0.,\n",
       "        0., 0., 0., 0., 0., 0., 0., 0., 0., 0., 0., 0., 0., 0., 0., 0., 0.,\n",
       "        0., 0., 0., 0., 0., 0., 0., 0., 0., 0., 0., 0., 0., 0., 0., 0., 0.,\n",
       "        0., 0., 0., 0., 0., 0., 0., 0., 0., 0., 0., 0., 0., 0., 0., 0., 0.,\n",
       "        0., 0., 0., 0., 0., 0., 0., 0., 0., 0., 0., 0., 0., 0., 0., 0., 0.,\n",
       "        0., 0., 0., 0., 0., 0., 0., 0., 0., 0., 0., 0., 0., 0., 0., 0., 0.,\n",
       "        0., 0., 0., 0., 0., 0., 0., 0., 0., 0., 0., 0., 0.]), 0.0)"
      ]
     },
     "execution_count": 63,
     "metadata": {},
     "output_type": "execute_result"
    }
   ],
   "source": [
    "predictions = np.stack([t.predict(X_valid) for t in clf.estimators_])\n",
    "predictions[:,1000], np.mean(predictions[:,1000])"
   ]
  },
  {
   "cell_type": "code",
   "execution_count": 64,
   "metadata": {},
   "outputs": [
    {
     "data": {
      "image/png": "[encoded data removed]",
      "text/plain": [
       "<Figure size 432x288 with 1 Axes>"
      ]
     },
     "metadata": {
      "needs_background": "light"
     },
     "output_type": "display_data"
    }
   ],
   "source": [
    "plt.plot([metrics.r2_score(y_valid, np.mean(predictions[:i+1], axis=0)) for i in range(num_decision_trees)]);"
   ]
  },
  {
   "cell_type": "markdown",
   "metadata": {},
   "source": [
    "# Hyperparameter tuning GRID SEARCH!"
   ]
  },
  {
   "cell_type": "code",
   "execution_count": null,
   "metadata": {},
   "outputs": [],
   "source": []
  }
 ],
 "metadata": {
  "kernelspec": {
   "display_name": "Python 3",
   "language": "python",
   "name": "python3"
  },
  "language_info": {
   "codemirror_mode": {
    "name": "ipython",
    "version": 3
   },
   "file_extension": ".py",
   "mimetype": "text/x-python",
   "name": "python",
   "nbconvert_exporter": "python",
   "pygments_lexer": "ipython3",
   "version": "3.6.8"
  }
 },
 "nbformat": 4,
 "nbformat_minor": 2
}
