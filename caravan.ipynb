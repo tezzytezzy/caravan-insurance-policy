{
 "cells": [
  {
   "cell_type": "markdown",
   "metadata": {},
   "source": [
    "# Data Munging"
   ]
  },
  {
   "cell_type": "code",
   "execution_count": 3,
   "metadata": {},
   "outputs": [],
   "source": [
    "import pandas as pd\n",
    "import numpy as np\n",
    "\n",
    "# header=0 doens't work, header=None simply inserts intergers as column names\n",
    "df_raw = pd.read_csv(r\"./ticdata2000.txt\", sep='\\t', header=None, low_memory=False)\n",
    "df_test = pd.read_csv(r\"./ticeval2000.txt\", sep='\\t', header=None, low_memory=False)"
   ]
  },
  {
   "cell_type": "code",
   "execution_count": 4,
   "metadata": {},
   "outputs": [],
   "source": [
    "def display_all(df):\n",
    "    with pd.option_context(\"display.max_rows\", 1000, \"display.max_columns\", 1000): \n",
    "        display(df)"
   ]
  },
  {
   "cell_type": "code",
   "execution_count": 5,
   "metadata": {},
   "outputs": [],
   "source": [
    "### DEPRECATED BY THE FOLLOWING CELL ###\n",
    "\n",
    "# def get_item_description(start_row, end_row, from_nth_field_onward):\n",
    "#     \"\"\"\n",
    "#     RETURN: A list of extracted item names\n",
    "#     start_row: Starting row number of dictionary.txt\n",
    "#     end_row: Ending row number of dictionary.txt\n",
    "#     from_nth_field_onward: Take out a n-th field, delimited by space, and further to the right\n",
    "#     \"\"\"\n",
    "    \n",
    "#     # Thought of returning a ndarray but a \"DeprecationWarning: \n",
    "#     #  \"using a non-integer array as obj in delete will result in an error in the future\"\n",
    "#     import subprocess\n",
    "    \n",
    "#     unix_shell_command = 'awk \\'NR>={0}&&NR<={1}\\' \"./dictionary.txt\" | cut -d\\  -f{2}- '.format(start_row, end_row, from_nth_field_onward)\n",
    "    \n",
    "#     headers = subprocess.check_output(unix_shell_command, shell=True)\n",
    "    \n",
    "#     #headers = subprocess.check_output('awk \\'NR>=' + str(start_row) + '&&NR<=' + str(end_row) + '\\' \"./dictionary.txt\" | cut -d\\  -f3- ', shell=True)\n",
    "#     #headers = subprocess.check_output('awk \\'NR>=4&&NR<=89\\' \"./dictionary.txt\" | cut -d\\  -f3- ', shell=True)\n",
    "#     # awk \\'NR>=4&&NR<=89\\' \"./dictionary.txt\" => take lines between 4 and 89, both incluive\n",
    "#     #  (NOTE: escape character of \"\\\" before ')\n",
    "#     # cut -d\\  -f3- => delimiter of a single space with escape character of \"\\\" and\n",
    "#     #  taking in the 3rd field onwards until end of the line\n",
    "#     # This returns byte string e.g., b'Customer Subtype see L0\\nNumber of...'\n",
    "\n",
    "#     # Alternative to 'subprocess.check_output' is as follows:\n",
    "#     # import os\n",
    "#     # os.system(\"command\")\n",
    "\n",
    "#     header_list = \"\".join(map(chr, headers)).split('\\n')\n",
    "#     # \"\".join(map(chr, headers)) => convert bytes to a string\n",
    "#     # .split('\\n') => put the produced string into a list delimited by a line feed\n",
    "\n",
    "#     header_list.pop()\n",
    "#     # Unfortuantely this leaves a zero-string list item at the very end i.e., (''), so take it out\n",
    "\n",
    "#     return header_list"
   ]
  },
  {
   "cell_type": "code",
   "execution_count": 6,
   "metadata": {},
   "outputs": [],
   "source": [
    "def collect_data(keyword, first_item_number, from_nth_field):\n",
    "    \"\"\"\n",
    "    RETURN: A list of items in data file\n",
    "    first_item_number: Either 0 or 1, by which a first item is numbered\n",
    "    from_nth_field: The number on and which field to the end of line to extract, delimited by a single space ' '\n",
    "    \"\"\"\n",
    "\n",
    "    path_and_file_name_of_dictionary = \"./dictionary.txt\" # In relation to this ipynb file\n",
    "    item_list = []\n",
    "    \n",
    "    section_found = False\n",
    "    item_found = False\n",
    "    end_of_info = False\n",
    "\n",
    "    # Without \"encoding=\"ISO-8859-1\", non-printbale character spits \"UnicodeDecodeError: 'utf-8' codec can't decode...\"\n",
    "    with open (path_and_file_name_of_dictionary, 'rt', encoding=\"ISO-8859-1\") as myfile:\n",
    "        for a_line in myfile:\n",
    "            if (not end_of_info):\n",
    "                if (not section_found) and (a_line[:len(keyword)] == keyword):\n",
    "                    section_found = True\n",
    "                elif section_found and (a_line[0]== str(first_item_number) or item_found):\n",
    "                    if a_line == '\\n':\n",
    "                        end_of_info = True\n",
    "                    else:\n",
    "                        item_name = ''\n",
    "                        field_list = a_line.split()\n",
    "\n",
    "                        for idx in range(from_nth_field - 1, len(field_list)):\n",
    "                            item_name = item_name + ' ' + field_list[idx]\n",
    "\n",
    "                        item_list.append(item_name[1:len(item_name)])\n",
    "                        item_found = True\n",
    "            else:\n",
    "                return item_list\n",
    "    return item_list # When reaching end of file, this line gets executed for 'L4'"
   ]
  },
  {
   "cell_type": "code",
   "execution_count": 7,
   "metadata": {},
   "outputs": [],
   "source": [
    "def fetch_list_item(nd_array, keyword, from_nth_index = 0):\n",
    "    \"\"\"\n",
    "    RETURN: A tuple of matched item AND index number \n",
    "    Fetch column name according to the passed-in 'keyword'\n",
    "    Perform \"exact\" search to see if string match AT the end of string ONLY\n",
    "    \"\"\"\n",
    "    \n",
    "    for index, item in enumerate(nd_array):\n",
    "        if index >= from_nth_index:\n",
    "            if item[-len(keyword):] == keyword:\n",
    "                return index, item\n",
    "    return None"
   ]
  },
  {
   "cell_type": "code",
   "execution_count": 8,
   "metadata": {},
   "outputs": [],
   "source": [
    "def remove_duplicate(df_series, dictionary, offset):\n",
    "    \"\"\"\n",
    "    RETURN: A list without a duplicate\n",
    "    df_series: A DataFrame Series, i.e., one-column DataFrame\n",
    "    dictionary: A list of items in the look-up dictionary\n",
    "    offset: Either 0 or 1, by which to offset raw data numbers as the dicionary is always 0-based\n",
    "    \"\"\"\n",
    "    \n",
    "    # Create a ndarray from a DataFrame column\n",
    "    nd_array_data = df_series.to_numpy()\n",
    "    \n",
    "    # DEBUG np.savetxt(r\"./test_start.txt\", nd_array_data)\n",
    "    \n",
    "    duplicate_items = []\n",
    "    \n",
    "    for index, item in enumerate(dictionary):\n",
    "        if dictionary.count(item) > 1:\n",
    "            res =  fetch_list_item(dictionary, item, index+1)\n",
    "            if res is not None:\n",
    "            # Locate the index of the OTHER duplicate, to be kept and aligned, from the beginning of the list\n",
    "                duplicate_num, _ = res\n",
    "\n",
    "                duplicate_items.append([index, duplicate_num])\n",
    "    \n",
    "    # Finally take out the duplicates        \n",
    "    for dup in duplicate_items:\n",
    "        dictionary.pop(dup[0]) \n",
    "        \n",
    "        # The subsequent items of the found duplicate must be pushed forward by subtracting 1, to have it aligned with dictionary.txt\n",
    "        nd_array_data = np.where(nd_array_data>dup[0], nd_array_data - 1, nd_array_data)\n",
    "        \n",
    "        # Now replace the duplicate index with the OTHER index of its identical entry\n",
    "        nd_array_data[np.where(nd_array_data==dup[0])] = dup[1]\n",
    "\n",
    "    # Adjust raw data numbers where its corresponding column/field in the dectionary list has 1-based order\n",
    "    nd_array_data = nd_array_data - offset\n",
    "    \n",
    "    return dictionary, nd_array_data"
   ]
  },
  {
   "cell_type": "code",
   "execution_count": 9,
   "metadata": {},
   "outputs": [],
   "source": [
    "def change_column_type_from_int64_to_category():\n",
    "    \"\"\"\n",
    "    Format DataFrame by replacing 'pure' indices in dictionary.txt with meaningful descriptions\n",
    "    \"\"\"\n",
    "    dictionary_label_prefix = 'L'\n",
    "    \n",
    "    data_tables = [[0, 1, 2], \n",
    "                     [1, 1, 2], \n",
    "                     [2, 1, 2], \n",
    "                     [3, 0, 2], \n",
    "                     [4, 0, 2]]\n",
    "    # 1st element: A number - prefixed with 'L' - whose table in the dictionary.txt describes further e.g., L0, L1, and L2\n",
    "    # 2nd element: N-based index in the dictionary.txt. Where it's 1 \n",
    "    #              we subtract 1 from the original data to make it zero(0)-based, so as to suit indexes of category type\n",
    "    # 3rd element: The number of n-th field in each line to be taken    \n",
    "\n",
    "    def remove_duplicate_and_assign_new_values(df, item):\n",
    "        label_list, new_values = remove_duplicate(df[item], \n",
    "                                                collect_data(dictionary_label_prefix + str(i[0]), i[1], i[2]),\n",
    "                                                i[1])\n",
    "            \n",
    "        df[item] = new_values\n",
    "    \n",
    "    for i in data_tables:\n",
    "        res = fetch_list_item(list_of_column_names,\n",
    "                              dictionary_label_prefix + str(i[0]),\n",
    "                              0)\n",
    "        if res is not None:\n",
    "            index, item = res\n",
    "            \n",
    "            remove_duplicate_and_assign_new_values(df_raw, item)\n",
    "            remove_duplicate_and_assign_new_values(df_test, item)\n",
    "            #label_list, new_values = remove_duplicate(df_raw[item], \n",
    "            #                                                    collect_data(dictionary_label_prefix + str(i[0]), i[1], i[2]),\n",
    "            #                                                    i[1])\n",
    "            \n",
    "            \n",
    "            #df_raw[item] = new_values\n",
    "            \n",
    "            ###\n",
    "            # The following fails to convert string to categorical variables\n",
    "            ###\n",
    "            #df_raw[item] = df_raw[item].astype('category').cat.as_ordered()\n",
    "            #\n",
    "            #df_raw[item] = pd.CategoricalIndex(df_raw[item].map(dict(enumerate(label_list))),\n",
    "            #                                     ordered=True, \n",
    "            #                                     categories=label_list)\n",
    "            "
   ]
  },
  {
   "cell_type": "code",
   "execution_count": 31,
   "metadata": {},
   "outputs": [],
   "source": [
    "column_names = [[\"DATA DICTIONARY\", 1, 3]]\n",
    "list_of_column_names = collect_data(str(column_names[0][0]), column_names[0][1], column_names[0][2])\n",
    "\n",
    "df_raw.columns = list_of_column_names\n",
    "\n",
    "feature_labels = list_of_column_names[:-1] # Take out the last column 'Number of mobile home policies 0 - 1' as NOT included\n",
    "df_test.columns = feature_labels"
   ]
  },
  {
   "cell_type": "code",
   "execution_count": 11,
   "metadata": {},
   "outputs": [
    {
     "data": {
      "text/html": [
       "<div>\n",
       "<style scoped>\n",
       "    .dataframe tbody tr th:only-of-type {\n",
       "        vertical-align: middle;\n",
       "    }\n",
       "\n",
       "    .dataframe tbody tr th {\n",
       "        vertical-align: top;\n",
       "    }\n",
       "\n",
       "    .dataframe thead th {\n",
       "        text-align: right;\n",
       "    }\n",
       "</style>\n",
       "<table border=\"1\" class=\"dataframe\">\n",
       "  <thead>\n",
       "    <tr style=\"text-align: right;\">\n",
       "      <th></th>\n",
       "      <th>Customer Subtype see L0</th>\n",
       "      <th>Number of houses 1  10</th>\n",
       "      <th>Avg size household 1  6</th>\n",
       "      <th>Avg age see L1</th>\n",
       "      <th>Customer main type see L2</th>\n",
       "      <th>Roman catholic see L3</th>\n",
       "      <th>Protestant ...</th>\n",
       "      <th>Other religion</th>\n",
       "      <th>No religion</th>\n",
       "      <th>Married</th>\n",
       "      <th>...</th>\n",
       "      <th>Number of private accident insurance policies</th>\n",
       "      <th>Number of family accidents insurance policies</th>\n",
       "      <th>Number of disability insurance policies</th>\n",
       "      <th>Number of fire policies</th>\n",
       "      <th>Number of surfboard policies</th>\n",
       "      <th>Number of boat policies</th>\n",
       "      <th>Number of bicycle policies</th>\n",
       "      <th>Number of property insurance policies</th>\n",
       "      <th>Number of social security insurance policies</th>\n",
       "      <th>Number of mobile home policies 0 - 1</th>\n",
       "    </tr>\n",
       "  </thead>\n",
       "  <tbody>\n",
       "    <tr>\n",
       "      <th>0</th>\n",
       "      <td>33</td>\n",
       "      <td>1</td>\n",
       "      <td>3</td>\n",
       "      <td>2</td>\n",
       "      <td>8</td>\n",
       "      <td>0</td>\n",
       "      <td>5</td>\n",
       "      <td>1</td>\n",
       "      <td>3</td>\n",
       "      <td>7</td>\n",
       "      <td>...</td>\n",
       "      <td>0</td>\n",
       "      <td>0</td>\n",
       "      <td>0</td>\n",
       "      <td>1</td>\n",
       "      <td>0</td>\n",
       "      <td>0</td>\n",
       "      <td>0</td>\n",
       "      <td>0</td>\n",
       "      <td>0</td>\n",
       "      <td>0</td>\n",
       "    </tr>\n",
       "    <tr>\n",
       "      <th>1</th>\n",
       "      <td>37</td>\n",
       "      <td>1</td>\n",
       "      <td>2</td>\n",
       "      <td>2</td>\n",
       "      <td>8</td>\n",
       "      <td>1</td>\n",
       "      <td>4</td>\n",
       "      <td>1</td>\n",
       "      <td>4</td>\n",
       "      <td>6</td>\n",
       "      <td>...</td>\n",
       "      <td>0</td>\n",
       "      <td>0</td>\n",
       "      <td>0</td>\n",
       "      <td>1</td>\n",
       "      <td>0</td>\n",
       "      <td>0</td>\n",
       "      <td>0</td>\n",
       "      <td>0</td>\n",
       "      <td>0</td>\n",
       "      <td>0</td>\n",
       "    </tr>\n",
       "    <tr>\n",
       "      <th>2</th>\n",
       "      <td>37</td>\n",
       "      <td>1</td>\n",
       "      <td>2</td>\n",
       "      <td>2</td>\n",
       "      <td>8</td>\n",
       "      <td>0</td>\n",
       "      <td>4</td>\n",
       "      <td>2</td>\n",
       "      <td>4</td>\n",
       "      <td>3</td>\n",
       "      <td>...</td>\n",
       "      <td>0</td>\n",
       "      <td>0</td>\n",
       "      <td>0</td>\n",
       "      <td>1</td>\n",
       "      <td>0</td>\n",
       "      <td>0</td>\n",
       "      <td>0</td>\n",
       "      <td>0</td>\n",
       "      <td>0</td>\n",
       "      <td>0</td>\n",
       "    </tr>\n",
       "    <tr>\n",
       "      <th>3</th>\n",
       "      <td>9</td>\n",
       "      <td>1</td>\n",
       "      <td>3</td>\n",
       "      <td>3</td>\n",
       "      <td>3</td>\n",
       "      <td>2</td>\n",
       "      <td>3</td>\n",
       "      <td>2</td>\n",
       "      <td>4</td>\n",
       "      <td>5</td>\n",
       "      <td>...</td>\n",
       "      <td>0</td>\n",
       "      <td>0</td>\n",
       "      <td>0</td>\n",
       "      <td>1</td>\n",
       "      <td>0</td>\n",
       "      <td>0</td>\n",
       "      <td>0</td>\n",
       "      <td>0</td>\n",
       "      <td>0</td>\n",
       "      <td>0</td>\n",
       "    </tr>\n",
       "    <tr>\n",
       "      <th>4</th>\n",
       "      <td>40</td>\n",
       "      <td>1</td>\n",
       "      <td>4</td>\n",
       "      <td>2</td>\n",
       "      <td>10</td>\n",
       "      <td>1</td>\n",
       "      <td>4</td>\n",
       "      <td>1</td>\n",
       "      <td>4</td>\n",
       "      <td>7</td>\n",
       "      <td>...</td>\n",
       "      <td>0</td>\n",
       "      <td>0</td>\n",
       "      <td>0</td>\n",
       "      <td>1</td>\n",
       "      <td>0</td>\n",
       "      <td>0</td>\n",
       "      <td>0</td>\n",
       "      <td>0</td>\n",
       "      <td>0</td>\n",
       "      <td>0</td>\n",
       "    </tr>\n",
       "  </tbody>\n",
       "</table>\n",
       "<p>5 rows × 86 columns</p>\n",
       "</div>"
      ],
      "text/plain": [
       "   Customer Subtype see L0  Number of houses 1  10  Avg size household 1  6  \\\n",
       "0                       33                        1                         3   \n",
       "1                       37                        1                         2   \n",
       "2                       37                        1                         2   \n",
       "3                        9                        1                         3   \n",
       "4                       40                        1                         4   \n",
       "\n",
       "   Avg age see L1  Customer main type see L2  Roman catholic see L3  \\\n",
       "0               2                          8                      0   \n",
       "1               2                          8                      1   \n",
       "2               2                          8                      0   \n",
       "3               3                          3                      2   \n",
       "4               2                         10                      1   \n",
       "\n",
       "   Protestant ...  Other religion  No religion  Married  ...  \\\n",
       "0               5               1            3        7  ...   \n",
       "1               4               1            4        6  ...   \n",
       "2               4               2            4        3  ...   \n",
       "3               3               2            4        5  ...   \n",
       "4               4               1            4        7  ...   \n",
       "\n",
       "   Number of private accident insurance policies  \\\n",
       "0                                              0   \n",
       "1                                              0   \n",
       "2                                              0   \n",
       "3                                              0   \n",
       "4                                              0   \n",
       "\n",
       "   Number of family accidents insurance policies  \\\n",
       "0                                              0   \n",
       "1                                              0   \n",
       "2                                              0   \n",
       "3                                              0   \n",
       "4                                              0   \n",
       "\n",
       "   Number of disability insurance policies  Number of fire policies  \\\n",
       "0                                        0                        1   \n",
       "1                                        0                        1   \n",
       "2                                        0                        1   \n",
       "3                                        0                        1   \n",
       "4                                        0                        1   \n",
       "\n",
       "   Number of surfboard policies  Number of boat policies  \\\n",
       "0                             0                        0   \n",
       "1                             0                        0   \n",
       "2                             0                        0   \n",
       "3                             0                        0   \n",
       "4                             0                        0   \n",
       "\n",
       "   Number of bicycle policies  Number of property insurance policies  \\\n",
       "0                           0                                      0   \n",
       "1                           0                                      0   \n",
       "2                           0                                      0   \n",
       "3                           0                                      0   \n",
       "4                           0                                      0   \n",
       "\n",
       "   Number of social security insurance policies  \\\n",
       "0                                             0   \n",
       "1                                             0   \n",
       "2                                             0   \n",
       "3                                             0   \n",
       "4                                             0   \n",
       "\n",
       "   Number of mobile home policies 0 - 1  \n",
       "0                                     0  \n",
       "1                                     0  \n",
       "2                                     0  \n",
       "3                                     0  \n",
       "4                                     0  \n",
       "\n",
       "[5 rows x 86 columns]"
      ]
     },
     "execution_count": 11,
     "metadata": {},
     "output_type": "execute_result"
    }
   ],
   "source": [
    "df_raw.head()"
   ]
  },
  {
   "cell_type": "code",
   "execution_count": 12,
   "metadata": {},
   "outputs": [],
   "source": [
    "#dummy_column_name = \"dummy\"\n",
    "\n",
    "#df_test[dummy_column_name] = 0\n",
    "\n",
    "change_column_type_from_int64_to_category()\n",
    "\n",
    "#df_test.drop(df_test.columns[df_test.shape[1]-1], axis='columns')\n",
    "\n",
    "#df_test.drop(dummy_column_name, axis='columns')\n"
   ]
  },
  {
   "cell_type": "code",
   "execution_count": 13,
   "metadata": {},
   "outputs": [
    {
     "data": {
      "text/html": [
       "<div>\n",
       "<style scoped>\n",
       "    .dataframe tbody tr th:only-of-type {\n",
       "        vertical-align: middle;\n",
       "    }\n",
       "\n",
       "    .dataframe tbody tr th {\n",
       "        vertical-align: top;\n",
       "    }\n",
       "\n",
       "    .dataframe thead th {\n",
       "        text-align: right;\n",
       "    }\n",
       "</style>\n",
       "<table border=\"1\" class=\"dataframe\">\n",
       "  <thead>\n",
       "    <tr style=\"text-align: right;\">\n",
       "      <th></th>\n",
       "      <th>Customer Subtype see L0</th>\n",
       "      <th>Number of houses 1  10</th>\n",
       "      <th>Avg size household 1  6</th>\n",
       "      <th>Avg age see L1</th>\n",
       "      <th>Customer main type see L2</th>\n",
       "      <th>Roman catholic see L3</th>\n",
       "      <th>Protestant ...</th>\n",
       "      <th>Other religion</th>\n",
       "      <th>No religion</th>\n",
       "      <th>Married</th>\n",
       "      <th>...</th>\n",
       "      <th>Number of private accident insurance policies</th>\n",
       "      <th>Number of family accidents insurance policies</th>\n",
       "      <th>Number of disability insurance policies</th>\n",
       "      <th>Number of fire policies</th>\n",
       "      <th>Number of surfboard policies</th>\n",
       "      <th>Number of boat policies</th>\n",
       "      <th>Number of bicycle policies</th>\n",
       "      <th>Number of property insurance policies</th>\n",
       "      <th>Number of social security insurance policies</th>\n",
       "      <th>Number of mobile home policies 0 - 1</th>\n",
       "    </tr>\n",
       "  </thead>\n",
       "  <tbody>\n",
       "    <tr>\n",
       "      <th>0</th>\n",
       "      <td>31</td>\n",
       "      <td>1</td>\n",
       "      <td>3</td>\n",
       "      <td>1</td>\n",
       "      <td>7</td>\n",
       "      <td>0</td>\n",
       "      <td>5</td>\n",
       "      <td>1</td>\n",
       "      <td>3</td>\n",
       "      <td>7</td>\n",
       "      <td>...</td>\n",
       "      <td>0</td>\n",
       "      <td>0</td>\n",
       "      <td>0</td>\n",
       "      <td>1</td>\n",
       "      <td>0</td>\n",
       "      <td>0</td>\n",
       "      <td>0</td>\n",
       "      <td>0</td>\n",
       "      <td>0</td>\n",
       "      <td>0</td>\n",
       "    </tr>\n",
       "    <tr>\n",
       "      <th>1</th>\n",
       "      <td>35</td>\n",
       "      <td>1</td>\n",
       "      <td>2</td>\n",
       "      <td>1</td>\n",
       "      <td>7</td>\n",
       "      <td>1</td>\n",
       "      <td>4</td>\n",
       "      <td>1</td>\n",
       "      <td>4</td>\n",
       "      <td>6</td>\n",
       "      <td>...</td>\n",
       "      <td>0</td>\n",
       "      <td>0</td>\n",
       "      <td>0</td>\n",
       "      <td>1</td>\n",
       "      <td>0</td>\n",
       "      <td>0</td>\n",
       "      <td>0</td>\n",
       "      <td>0</td>\n",
       "      <td>0</td>\n",
       "      <td>0</td>\n",
       "    </tr>\n",
       "    <tr>\n",
       "      <th>2</th>\n",
       "      <td>35</td>\n",
       "      <td>1</td>\n",
       "      <td>2</td>\n",
       "      <td>1</td>\n",
       "      <td>7</td>\n",
       "      <td>0</td>\n",
       "      <td>4</td>\n",
       "      <td>2</td>\n",
       "      <td>4</td>\n",
       "      <td>3</td>\n",
       "      <td>...</td>\n",
       "      <td>0</td>\n",
       "      <td>0</td>\n",
       "      <td>0</td>\n",
       "      <td>1</td>\n",
       "      <td>0</td>\n",
       "      <td>0</td>\n",
       "      <td>0</td>\n",
       "      <td>0</td>\n",
       "      <td>0</td>\n",
       "      <td>0</td>\n",
       "    </tr>\n",
       "    <tr>\n",
       "      <th>3</th>\n",
       "      <td>7</td>\n",
       "      <td>1</td>\n",
       "      <td>3</td>\n",
       "      <td>2</td>\n",
       "      <td>2</td>\n",
       "      <td>2</td>\n",
       "      <td>3</td>\n",
       "      <td>2</td>\n",
       "      <td>4</td>\n",
       "      <td>5</td>\n",
       "      <td>...</td>\n",
       "      <td>0</td>\n",
       "      <td>0</td>\n",
       "      <td>0</td>\n",
       "      <td>1</td>\n",
       "      <td>0</td>\n",
       "      <td>0</td>\n",
       "      <td>0</td>\n",
       "      <td>0</td>\n",
       "      <td>0</td>\n",
       "      <td>0</td>\n",
       "    </tr>\n",
       "    <tr>\n",
       "      <th>4</th>\n",
       "      <td>38</td>\n",
       "      <td>1</td>\n",
       "      <td>4</td>\n",
       "      <td>1</td>\n",
       "      <td>9</td>\n",
       "      <td>1</td>\n",
       "      <td>4</td>\n",
       "      <td>1</td>\n",
       "      <td>4</td>\n",
       "      <td>7</td>\n",
       "      <td>...</td>\n",
       "      <td>0</td>\n",
       "      <td>0</td>\n",
       "      <td>0</td>\n",
       "      <td>1</td>\n",
       "      <td>0</td>\n",
       "      <td>0</td>\n",
       "      <td>0</td>\n",
       "      <td>0</td>\n",
       "      <td>0</td>\n",
       "      <td>0</td>\n",
       "    </tr>\n",
       "  </tbody>\n",
       "</table>\n",
       "<p>5 rows × 86 columns</p>\n",
       "</div>"
      ],
      "text/plain": [
       "   Customer Subtype see L0  Number of houses 1  10  Avg size household 1  6  \\\n",
       "0                       31                        1                         3   \n",
       "1                       35                        1                         2   \n",
       "2                       35                        1                         2   \n",
       "3                        7                        1                         3   \n",
       "4                       38                        1                         4   \n",
       "\n",
       "   Avg age see L1  Customer main type see L2  Roman catholic see L3  \\\n",
       "0               1                          7                      0   \n",
       "1               1                          7                      1   \n",
       "2               1                          7                      0   \n",
       "3               2                          2                      2   \n",
       "4               1                          9                      1   \n",
       "\n",
       "   Protestant ...  Other religion  No religion  Married  ...  \\\n",
       "0               5               1            3        7  ...   \n",
       "1               4               1            4        6  ...   \n",
       "2               4               2            4        3  ...   \n",
       "3               3               2            4        5  ...   \n",
       "4               4               1            4        7  ...   \n",
       "\n",
       "   Number of private accident insurance policies  \\\n",
       "0                                              0   \n",
       "1                                              0   \n",
       "2                                              0   \n",
       "3                                              0   \n",
       "4                                              0   \n",
       "\n",
       "   Number of family accidents insurance policies  \\\n",
       "0                                              0   \n",
       "1                                              0   \n",
       "2                                              0   \n",
       "3                                              0   \n",
       "4                                              0   \n",
       "\n",
       "   Number of disability insurance policies  Number of fire policies  \\\n",
       "0                                        0                        1   \n",
       "1                                        0                        1   \n",
       "2                                        0                        1   \n",
       "3                                        0                        1   \n",
       "4                                        0                        1   \n",
       "\n",
       "   Number of surfboard policies  Number of boat policies  \\\n",
       "0                             0                        0   \n",
       "1                             0                        0   \n",
       "2                             0                        0   \n",
       "3                             0                        0   \n",
       "4                             0                        0   \n",
       "\n",
       "   Number of bicycle policies  Number of property insurance policies  \\\n",
       "0                           0                                      0   \n",
       "1                           0                                      0   \n",
       "2                           0                                      0   \n",
       "3                           0                                      0   \n",
       "4                           0                                      0   \n",
       "\n",
       "   Number of social security insurance policies  \\\n",
       "0                                             0   \n",
       "1                                             0   \n",
       "2                                             0   \n",
       "3                                             0   \n",
       "4                                             0   \n",
       "\n",
       "   Number of mobile home policies 0 - 1  \n",
       "0                                     0  \n",
       "1                                     0  \n",
       "2                                     0  \n",
       "3                                     0  \n",
       "4                                     0  \n",
       "\n",
       "[5 rows x 86 columns]"
      ]
     },
     "execution_count": 13,
     "metadata": {},
     "output_type": "execute_result"
    }
   ],
   "source": [
    "df_raw.head()"
   ]
  },
  {
   "cell_type": "code",
   "execution_count": 14,
   "metadata": {},
   "outputs": [],
   "source": [
    "df_raw.to_feather('formatted_raw_data')"
   ]
  },
  {
   "cell_type": "markdown",
   "metadata": {},
   "source": [
    "# Data Exploring"
   ]
  },
  {
   "cell_type": "code",
   "execution_count": 15,
   "metadata": {},
   "outputs": [],
   "source": [
    "df_raw = pd.read_feather('formatted_raw_data')"
   ]
  },
  {
   "cell_type": "code",
   "execution_count": 16,
   "metadata": {},
   "outputs": [],
   "source": [
    "from sklearn.ensemble import RandomForestClassifier\n",
    "from sklearn.model_selection import train_test_split\n",
    "import matplotlib.pyplot as plt"
   ]
  },
  {
   "cell_type": "markdown",
   "metadata": {},
   "source": [
    "Good benchmark to extract validation set out of training set is 20% according to Fast.ai's Jeremy Howard. Thus, train_size is set to **0.8** below. Also take a look at this descerning article (https://www.fast.ai/2017/11/13/validation-sets/).\n",
    "\n",
    "The sample is NOT a timeseries data and thus cross-validation can be a good candidate as well as out-of-bag hyperparameter in Random Forest."
   ]
  },
  {
   "cell_type": "code",
   "execution_count": 17,
   "metadata": {},
   "outputs": [
    {
     "name": "stderr",
     "output_type": "stream",
     "text": [
      "/home/to/miniconda3/envs/caravan/lib/python3.6/site-packages/sklearn/model_selection/_split.py:2179: FutureWarning: From version 0.21, test_size will always complement train_size unless both are specified.\n",
      "  FutureWarning)\n"
     ]
    },
    {
     "data": {
      "text/plain": [
       "((4657, 85), (1165, 85), (4657,), (1165,))"
      ]
     },
     "execution_count": 17,
     "metadata": {},
     "output_type": "execute_result"
    }
   ],
   "source": [
    "# https://scikit-learn.org/stable/modules/generated/sklearn.model_selection.train_test_split.html\n",
    "\n",
    "# Separate into 2 DataFrames:\n",
    "#  1. Target/Dependent value (Attribute 86, \"CARAVAN:Number of mobile home policies\") and \n",
    "#  2. Features\n",
    "\n",
    "# Tuple is zero-based, but columns is one-based\n",
    "col_idx = df_raw.shape[1]-1\n",
    "\n",
    "df_target = df_raw.iloc[:, col_idx]\n",
    "df_features = df_raw.drop(df_raw.columns[col_idx], axis='columns')\n",
    "\n",
    "# Use train_test_split to create train and validation set instead of test set, which we already have\n",
    "# Random seed is of course '42' due to 'The Hitchhiker's Guide to the Galaxy'!\n",
    "X_train, X_valid, y_train, y_valid = train_test_split(df_features, df_target, train_size=0.8, shuffle=False) # random_state=42)\n",
    "\n",
    "X_train.shape, X_valid.shape, y_train.shape, y_valid.shape"
   ]
  },
  {
   "cell_type": "markdown",
   "metadata": {},
   "source": [
    "Let's proceed to build benchmark!"
   ]
  },
  {
   "cell_type": "code",
   "execution_count": 18,
   "metadata": {},
   "outputs": [
    {
     "data": {
      "text/plain": [
       "0.9920549710113807"
      ]
     },
     "execution_count": 18,
     "metadata": {},
     "output_type": "execute_result"
    }
   ],
   "source": [
    "clf = RandomForestClassifier(n_estimators = 100, n_jobs = -1)\n",
    "# Take a default value of Python 3.7\n",
    "\n",
    "clf.fit(X_train, y_train)\n",
    "clf.score(X_train, y_train)"
   ]
  },
  {
   "cell_type": "code",
   "execution_count": 19,
   "metadata": {},
   "outputs": [
    {
     "data": {
      "text/plain": [
       "array([[0.78166667, 0.21833333],\n",
       "       [1.        , 0.        ],\n",
       "       [0.95      , 0.05      ],\n",
       "       ...,\n",
       "       [1.        , 0.        ],\n",
       "       [1.        , 0.        ],\n",
       "       [0.91      , 0.09      ]])"
      ]
     },
     "execution_count": 19,
     "metadata": {},
     "output_type": "execute_result"
    }
   ],
   "source": [
    "clf.predict_proba(X_valid)"
   ]
  },
  {
   "cell_type": "markdown",
   "metadata": {},
   "source": [
    "First column represents the model's calculation for probablity of zero (0), whereas second does one (1).\n",
    "\n",
    "When you see  [1.        , 0.        ]  it means the model predict zero (0) in 100% certainty."
   ]
  },
  {
   "cell_type": "code",
   "execution_count": 20,
   "metadata": {},
   "outputs": [],
   "source": [
    "# Build a confusion matrix: correctly predicted ones are diagonally displayed\n",
    "def build_confusion_matrix(clf, df_features, df_target):\n",
    "    df = pd.crosstab(df_target, clf.predict(df_features), rownames=['Actual Classes'], colnames=['Predicted Classes'])\n",
    "    print (df)\n",
    "    count_correct_incorrect_total(df)\n",
    "    "
   ]
  },
  {
   "cell_type": "code",
   "execution_count": 21,
   "metadata": {},
   "outputs": [],
   "source": [
    "def count_correct_incorrect_total(df):\n",
    "    correct_sum = 0\n",
    "    total_sum = 0\n",
    "    \n",
    "    num_classes = len(df.index)    \n",
    "    \n",
    "    for i in range(num_classes):\n",
    "        for j in range(num_classes):\n",
    "            total_sum += df.loc[i, j]\n",
    "            if i == j:\n",
    "                correct_sum += df.loc[i, j]\n",
    "\n",
    "    print (\"\\nCorrect: {0:,}, Incorrect: {1:,}, Total: {2:,} => Accuracy: {3:.4f}%\".format(correct_sum, \n",
    "                                                                                   total_sum - correct_sum, \n",
    "                                                                                   total_sum,\n",
    "                                                                                   correct_sum / total_sum * 100))"
   ]
  },
  {
   "cell_type": "code",
   "execution_count": 22,
   "metadata": {},
   "outputs": [
    {
     "name": "stdout",
     "output_type": "stream",
     "text": [
      "Predicted Classes     0   1\n",
      "Actual Classes             \n",
      "0                  1077  11\n",
      "1                    74   3\n",
      "\n",
      "Correct: 1,080, Incorrect: 85, Total: 1,165 => Accuracy: 92.7039%\n"
     ]
    }
   ],
   "source": [
    "build_confusion_matrix(clf, X_valid, y_valid)"
   ]
  },
  {
   "cell_type": "markdown",
   "metadata": {},
   "source": [
    "True positive [0, 0] and true negative [1,1] are correct predicitons."
   ]
  },
  {
   "cell_type": "code",
   "execution_count": 23,
   "metadata": {},
   "outputs": [
    {
     "data": {
      "text/plain": [
       "array([[0.98      , 0.02      ],\n",
       "       [0.765     , 0.235     ],\n",
       "       [0.94      , 0.06      ],\n",
       "       ...,\n",
       "       [0.97      , 0.03      ],\n",
       "       [0.95166667, 0.04833333],\n",
       "       [0.845     , 0.155     ]])"
      ]
     },
     "execution_count": 23,
     "metadata": {},
     "output_type": "execute_result"
    }
   ],
   "source": [
    "X_test = pd.read_csv(r\"./ticeval2000.txt\", sep='\\t', header=None, low_memory=False)\n",
    "\n",
    "y_test = pd.read_csv(r\"./tictgts2000.txt\", sep='\\t', header=None, low_memory=False)\n",
    "# At this point, type(y_test) is pandas.core.frame.DataFrame, which is NOT appropriate input for RandomForestClassifer\n",
    "# y_test.shape  = (4000, 1)\n",
    "\n",
    "y_test = y_test.iloc[:, 0]\n",
    "# This above converts to pandas.core.series.Series\n",
    "# y_test.shape  = (4000,)\n",
    "# ':' creates a 'deep' copy\n",
    "\n",
    "clf.predict_proba(X_test)"
   ]
  },
  {
   "cell_type": "code",
   "execution_count": 24,
   "metadata": {},
   "outputs": [
    {
     "name": "stdout",
     "output_type": "stream",
     "text": [
      "Predicted Classes     0   1\n",
      "Actual Classes             \n",
      "0                  3725  37\n",
      "1                   228  10\n",
      "\n",
      "Correct: 3,735, Incorrect: 265, Total: 4,000 => Accuracy: 93.3750%\n"
     ]
    }
   ],
   "source": [
    "build_confusion_matrix(clf, X_test, y_test)"
   ]
  },
  {
   "cell_type": "markdown",
   "metadata": {},
   "source": [
    "I will stop right here to discuss perhaps the **most** salient process of data scienece."
   ]
  },
  {
   "cell_type": "markdown",
   "metadata": {},
   "source": [
    "# Reckoning on Feature Engineering vs. Hyperparameter Tuning"
   ]
  },
  {
   "cell_type": "markdown",
   "metadata": {},
   "source": [
    "I was so eager to get hyperparmerter tuning right from the very beginning and fell prey to this fallacy.\n",
    "\n",
    "Take a look at this article for a moment: https://towardsdatascience.com/why-you-should-do-feature-engineering-first-hyperparameter-tuning-second-as-a-data-scientist-334be5eb276c\n",
    "\n",
    "&emsp;\"You should focus more on getting good features (Feature Engineering) instead of optimizing your model’s hyperparameters (Hyperparameter Tuning). You see… If you don’t have good features that the model can learn from, it will not improve your model’s performance even though you have the optimum hyperparameter,”\n",
    "\n",
    "&emsp;\"... your model will not be able to learn the underlying “pattern” if the data isn’t representative enough to describe the problem that you’re trying to solve. And this is where the role of feature engineering comes into play.\"\n",
    "\n",
    "&emsp;\"having a strong business domain knowledge will let you understand more about the data that you have and generate new features based on its relevance and relationship.\"\n",
    "\n",
    "&emsp;\"Hyperparameters are crucial as they control the overall behaviour of a machine learning model. The ultimate goal is to find an optimal combination of hyperparameters that minimizes a predefined loss function to give better results.\""
   ]
  },
  {
   "cell_type": "markdown",
   "metadata": {},
   "source": [
    "# Feature Engineering"
   ]
  },
  {
   "cell_type": "code",
   "execution_count": 100,
   "metadata": {},
   "outputs": [
    {
     "data": {
      "text/plain": [
       "array([58, 67, 46,  0, 43, 42, 79,  4, 16, 64])"
      ]
     },
     "execution_count": 100,
     "metadata": {},
     "output_type": "execute_result"
    }
   ],
   "source": [
    "indices[:10]"
   ]
  },
  {
   "cell_type": "code",
   "execution_count": 110,
   "metadata": {},
   "outputs": [
    {
     "data": {
      "text/plain": [
       "True"
      ]
     },
     "execution_count": 110,
     "metadata": {},
     "output_type": "execute_result"
    }
   ],
   "source": [
    "me = True\n",
    "type(me) is bool"
   ]
  },
  {
   "cell_type": "code",
   "execution_count": 128,
   "metadata": {},
   "outputs": [],
   "source": [
    "def show_feature_importance_stats(df, show_all_features = True):\n",
    "    feature_num = df.shape[1] if type(show_all_features) is bool else show_all_features\n",
    "    \n",
    "    importances = clf.feature_importances_\n",
    "    std = np.std([tree.feature_importances_ for tree in clf.estimators_],\n",
    "                 axis=0)\n",
    "    indices = np.argsort(importances)[::-1]\n",
    "\n",
    "    print(\"Feature ranking:\")\n",
    "\n",
    "    for f in range(feature_num):\n",
    "        print(\"{0}. {1} ({2})\".format(f + 1, new_labels[f], importances[indices[f]]))\n",
    "\n",
    "    # Plot the feature importances of the forest\n",
    "#     plt.figure()\n",
    "#     plt.title(\"Feature importances\")\n",
    "#     plt.bar(range(feature_num), importances[indices[:feature_num]], color=\"y\", yerr=std[indices[:feature_num]],)\n",
    "#     plt.xticks(range(feature_num), new_labels[:feature_num])\n",
    "#     plt.xlim([-1, feature_num])\n",
    "#     plt.show()\n",
    "    \n",
    "\n",
    "    plt.figure()\n",
    "    plt.title(\"Feature importances\")\n",
    "    plt.barh(range(feature_num), importances[indices[:feature_num]], color=\"y\")\n",
    "    #plt.set_yticklabels(new_labels[:feature_num])\n",
    "    plt.yticks(range(feature_num), new_labels[:feature_num])\n",
    "    plt.ylim([-1, feature_num])\n",
    "    plt.show()\n",
    "    \n",
    "    \n",
    "    "
   ]
  },
  {
   "cell_type": "code",
   "execution_count": 130,
   "metadata": {},
   "outputs": [
    {
     "name": "stdout",
     "output_type": "stream",
     "text": [
      "Feature ranking:\n",
      "1. Contribution fire policies (0.052580246111019156)\n",
      "2. Number of car policies (0.04332720958094558)\n",
      "3. Contribution car policies (0.041481959447776925)\n",
      "4. Customer Subtype see L0 (0.03860481471131585)\n",
      "5. Contribution private third party insurance see L4 (0.0282567355636671)\n",
      "6. Purchasing power class (0.025738227186556616)\n",
      "7. Number of fire policies (0.02195708384549294)\n",
      "8. Customer main type see L2 (0.02175785166963202)\n",
      "9. Medium level education (0.021165516994979813)\n",
      "10. Number of private third party insurance 1 - 12 (0.021006266203394394)\n",
      "11. Protestant ... (0.020114897075303326)\n",
      "12. Middle management (0.019990610550686995)\n",
      "13. No religion (0.019628348271933205)\n",
      "14. High level education (0.018318504104343727)\n",
      "15. Household without children (0.01813383108362661)\n",
      "16. Lower level education (0.01788013447914652)\n",
      "17. Household with children (0.01785112341405008)\n",
      "18. Income 30-45.000 (0.01758818582203283)\n",
      "19. Rented house (0.016930180363441752)\n",
      "20. Social class C (0.016928330775349526)\n",
      "21. High status (0.016658070504687858)\n",
      "22. Home owners (0.016327175791304705)\n",
      "23. Unskilled labourers (0.016326889891784543)\n",
      "24. Social class B1 (0.016221099010143084)\n",
      "25. Skilled labourers (0.01617710255977862)\n",
      "26. Income 45-75.000 (0.01614914869972397)\n",
      "27. Social class B2 (0.015744088897406278)\n",
      "28. Private health insurance (0.015495914335770992)\n",
      "29. Married (0.015446227681161644)\n",
      "30. Income < 30.000 (0.01418615311666511)\n"
     ]
    },
    {
     "data": {
      "image/png": "[encoded data removed]",
      "text/plain": [
       "<Figure size 432x288 with 1 Axes>"
      ]
     },
     "metadata": {
      "needs_background": "light"
     },
     "output_type": "display_data"
    }
   ],
   "source": [
    "show_feature_importance_stats(X_test, 30)"
   ]
  },
  {
   "cell_type": "code",
   "execution_count": 95,
   "metadata": {},
   "outputs": [
    {
     "name": "stdout",
     "output_type": "stream",
     "text": [
      "Feature ranking:\n",
      "1. Contribution fire policies (0.052580246111019156)\n",
      "2. Number of car policies (0.04332720958094558)\n",
      "3. Contribution car policies (0.041481959447776925)\n",
      "4. Customer Subtype see L0 (0.03860481471131585)\n",
      "5. Contribution private third party insurance see L4 (0.0282567355636671)\n",
      "6. Purchasing power class (0.025738227186556616)\n",
      "7. Number of fire policies (0.02195708384549294)\n",
      "8. Customer main type see L2 (0.02175785166963202)\n",
      "9. Medium level education (0.021165516994979813)\n",
      "10. Number of private third party insurance 1 - 12 (0.021006266203394394)\n",
      "11. Protestant ... (0.020114897075303326)\n",
      "12. Middle management (0.019990610550686995)\n",
      "13. No religion (0.019628348271933205)\n",
      "14. High level education (0.018318504104343727)\n",
      "15. Household without children (0.01813383108362661)\n",
      "16. Lower level education (0.01788013447914652)\n",
      "17. Household with children (0.01785112341405008)\n",
      "18. Income 30-45.000 (0.01758818582203283)\n",
      "19. Rented house (0.016930180363441752)\n",
      "20. Social class C (0.016928330775349526)\n",
      "21. High status (0.016658070504687858)\n",
      "22. Home owners (0.016327175791304705)\n",
      "23. Unskilled labourers (0.016326889891784543)\n",
      "24. Social class B1 (0.016221099010143084)\n",
      "25. Skilled labourers (0.01617710255977862)\n",
      "26. Income 45-75.000 (0.01614914869972397)\n",
      "27. Social class B2 (0.015744088897406278)\n",
      "28. Private health insurance (0.015495914335770992)\n",
      "29. Married (0.015446227681161644)\n",
      "30. Income < 30.000 (0.01418615311666511)\n",
      "31. Other religion (0.014161334635953466)\n",
      "32. National Health Service (0.014056296165184983)\n",
      "33. 1 car (0.013983622498854152)\n",
      "34. Singles (0.013928632331504494)\n",
      "35. Number of life insurances (0.013842190199000395)\n",
      "36. Social class A (0.013221861149232144)\n",
      "37. Income 75-122.000 (0.013034733446811301)\n",
      "38. Average income (0.012703445606896657)\n",
      "39. Contribution life insurances (0.012475638996496008)\n",
      "40. Contribution boat policies (0.012386056541096006)\n",
      "41. Other relation (0.012265176664047773)\n",
      "42. 2 cars (0.012100451868917823)\n",
      "43. No car (0.012023092654398741)\n",
      "44. Number of boat policies (0.011033243427053325)\n",
      "45. Social class D (0.010688280761141478)\n",
      "46. Avg age see L1 (0.009661984898034494)\n",
      "47. Living together (0.009433684057658502)\n",
      "48. Roman catholic see L3 (0.009205925094754085)\n",
      "49. Number of bicycle policies (0.008925441267265867)\n",
      "50. Contribution moped policies (0.008872976266479544)\n",
      "51. Contribution social security insurance policies (0.008567601648743477)\n",
      "52. Number of social security insurance policies (0.008516956977644418)\n",
      "53. Avg size household 1  6 (0.00840443349853804)\n",
      "54. Number of moped policies (0.008207707890151851)\n",
      "55. Contribution motorcycle/scooter policies (0.007659792295938058)\n",
      "56. Entrepreneur (0.00710326399767658)\n",
      "57. Number of motorcycle/scooter policies (0.006333103533831891)\n",
      "58. Contribution bicycle policies (0.00631606035676412)\n",
      "59. Number of houses 1  10 (0.005453839943515758)\n",
      "60. Farmer (0.005076269620506774)\n",
      "61. Income >123.000 (0.004764846141806197)\n",
      "62. Contribution family accidents insurance policies (0.003462158928524201)\n",
      "63. Number of family accidents insurance policies (0.0030629776614674808)\n",
      "64. Contribution trailer policies (0.0023617363728769165)\n",
      "65. Number of trailer policies (0.00232334757463562)\n",
      "66. Contribution property insurance policies (0.002131062409536667)\n",
      "67. Contribution tractor policies (0.0019105386147254154)\n",
      "68. Number of third party insurance (firms) ... (0.0018635152962016156)\n",
      "69. Number of property insurance policies (0.0017880387621646645)\n",
      "70. Contribution disability insurance policies (0.0017826467921488026)\n",
      "71. Number of disability insurance policies (0.0013179593337782106)\n",
      "72. Contribution third party insurance (firms) ... (0.001263220530752278)\n",
      "73. Number of tractor policies (0.0009780783687709568)\n",
      "74. Contribution third party insurane (agriculture) (0.0007292577253270538)\n",
      "75. Number of third party insurane (agriculture) (0.0006494217854812272)\n",
      "76. Contribution surfboard policies (0.0005045638931897471)\n",
      "77. Contribution private accident insurance policies (0.0004380724216895347)\n",
      "78. Number of surfboard policies (0.0004358638453766575)\n",
      "79. Number of private accident insurance policies (0.00037678465703080066)\n",
      "80. Contribution delivery van policies (0.0001511447302408841)\n",
      "81. Number of delivery van policies (5.6211169604555987e-05)\n",
      "82. Contribution agricultural machines policies (3.3526947456444555e-05)\n",
      "83. Number of lorry policies (0.0)\n",
      "84. Contribution lorry policies (0.0)\n",
      "85. Number of agricultural machines policies (0.0)\n"
     ]
    },
    {
     "data": {
      "image/png": "[encoded data removed]",
      "text/plain": [
       "<Figure size 432x288 with 1 Axes>"
      ]
     },
     "metadata": {
      "needs_background": "light"
     },
     "output_type": "display_data"
    }
   ],
   "source": [
    "from sklearn.feature_selection import SelectFromModel\n",
    "\n",
    "#for feature in zip(feature_labels, clf.feature_importances_):\n",
    "#    print(feature)   \n",
    "    \n",
    "importances = clf.feature_importances_\n",
    "std = np.std([tree.feature_importances_ for tree in clf.estimators_],\n",
    "             axis=0)\n",
    "indices = np.argsort(importances)[::-1]\n",
    "\n",
    "# Map to features\n",
    "dict_labels = dict(enumerate(feature_labels))\n",
    "new_labels = []\n",
    "\n",
    "for i in range(len(indices)):\n",
    "    new_labels.append(dict_labels.get(indices[i], \"\"))\n",
    "\n",
    "# Print the feature ranking\n",
    "print(\"Feature ranking:\")\n",
    "\n",
    "for f in range(X_test.shape[1]):\n",
    "    #print(\"%d. feature %d (%f)\" % (f + 1, indices[f], importances[indices[f]]))\n",
    "    #print(\"%d. %f (%f)\" % (f + 1, feature_labels[f], importances[indices[f]]))\n",
    "    print(\"{0}. {1} ({2})\".format(f + 1, new_labels[f], importances[indices[f]]))\n",
    "    \n",
    "# Plot the feature importances of the forest\n",
    "\n",
    "feature_num = X_test.shape[1] if    else\n",
    "\n",
    "\n",
    "plt.figure()\n",
    "plt.title(\"Feature importances\")\n",
    "plt.bar(range(X_test.shape[1]), importances[indices], color=\"y\", yerr=std[indices],)\n",
    "plt.xticks(range(X_test.shape[1]), indices)\n",
    "plt.xlim([-1, X_test.shape[1]])\n",
    "plt.show()\n",
    "\n",
    "\n",
    "\n",
    "\n"
   ]
  },
  {
   "cell_type": "code",
   "execution_count": 46,
   "metadata": {},
   "outputs": [
    {
     "data": {
      "text/plain": [
       "array([58, 67, 46,  0, 43, 42, 79,  4, 16, 64,  6, 21,  8, 15, 13, 17, 14,\n",
       "       37, 29, 27, 18, 30, 23, 25, 22, 38, 26, 35,  9, 36,  7, 34, 31, 12,\n",
       "       75, 24, 39, 41, 54, 60, 11, 32, 33, 81, 28,  3, 10,  5, 82, 53, 63,\n",
       "       84,  2, 74, 48, 19, 69, 61,  1, 20, 40, 56, 77, 50, 71, 62, 51, 65,\n",
       "       83, 57, 78, 44, 72, 45, 66, 59, 55, 80, 76, 47, 68, 52, 70, 49, 73])"
      ]
     },
     "execution_count": 46,
     "metadata": {},
     "output_type": "execute_result"
    }
   ],
   "source": [
    "indices"
   ]
  },
  {
   "cell_type": "code",
   "execution_count": 74,
   "metadata": {},
   "outputs": [
    {
     "data": {
      "text/plain": [
       "['Contribution fire policies',\n",
       " 'Number of car policies',\n",
       " 'Contribution car policies',\n",
       " 'Customer Subtype see L0',\n",
       " 'Contribution private third party insurance see L4',\n",
       " 'Purchasing power class',\n",
       " 'Number of fire policies',\n",
       " 'Customer main type see L2',\n",
       " 'Medium level education',\n",
       " 'Number of private third party insurance 1 - 12',\n",
       " 'Protestant ...',\n",
       " 'Middle management',\n",
       " 'No religion',\n",
       " 'High level education',\n",
       " 'Household without children',\n",
       " 'Lower level education',\n",
       " 'Household with children',\n",
       " 'Income 30-45.000',\n",
       " 'Rented house',\n",
       " 'Social class C',\n",
       " 'High status',\n",
       " 'Home owners',\n",
       " 'Unskilled labourers',\n",
       " 'Social class B1',\n",
       " 'Skilled labourers',\n",
       " 'Income 45-75.000',\n",
       " 'Social class B2',\n",
       " 'Private health insurance',\n",
       " 'Married',\n",
       " 'Income < 30.000',\n",
       " 'Other religion',\n",
       " 'National Health Service',\n",
       " '1 car',\n",
       " 'Singles',\n",
       " 'Number of life insurances',\n",
       " 'Social class A',\n",
       " 'Income 75-122.000',\n",
       " 'Average income',\n",
       " 'Contribution life insurances',\n",
       " 'Contribution boat policies',\n",
       " 'Other relation',\n",
       " '2 cars',\n",
       " 'No car',\n",
       " 'Number of boat policies',\n",
       " 'Social class D',\n",
       " 'Avg age see L1',\n",
       " 'Living together',\n",
       " 'Roman catholic see L3',\n",
       " 'Number of bicycle policies',\n",
       " 'Contribution moped policies',\n",
       " 'Contribution social security insurance policies',\n",
       " 'Number of social security insurance policies',\n",
       " 'Avg size household 1 \\x96 6',\n",
       " 'Number of moped policies',\n",
       " 'Contribution motorcycle/scooter policies',\n",
       " 'Entrepreneur',\n",
       " 'Number of motorcycle/scooter policies',\n",
       " 'Contribution bicycle policies',\n",
       " 'Number of houses 1 \\x96 10',\n",
       " 'Farmer',\n",
       " 'Income >123.000',\n",
       " 'Contribution family accidents insurance policies',\n",
       " 'Number of family accidents insurance policies',\n",
       " 'Contribution trailer policies',\n",
       " 'Number of trailer policies',\n",
       " 'Contribution property insurance policies',\n",
       " 'Contribution tractor policies',\n",
       " 'Number of third party insurance (firms) ...',\n",
       " 'Number of property insurance policies',\n",
       " 'Contribution disability insurance policies',\n",
       " 'Number of disability insurance policies',\n",
       " 'Contribution third party insurance (firms) ...',\n",
       " 'Number of tractor policies',\n",
       " 'Contribution third party insurane (agriculture)',\n",
       " 'Number of third party insurane (agriculture)',\n",
       " 'Contribution surfboard policies',\n",
       " 'Contribution private accident insurance policies',\n",
       " 'Number of surfboard policies',\n",
       " 'Number of private accident insurance policies',\n",
       " 'Contribution delivery van policies',\n",
       " 'Number of delivery van policies',\n",
       " 'Contribution agricultural machines policies',\n",
       " 'Number of lorry policies',\n",
       " 'Contribution lorry policies',\n",
       " 'Number of agricultural machines policies']"
      ]
     },
     "execution_count": 74,
     "metadata": {},
     "output_type": "execute_result"
    }
   ],
   "source": [
    "dict_labels = dict(enumerate(feature_labels))\n",
    "new_labels = []\n",
    "\n",
    "for i in range(len(indices)):\n",
    "    new_labels.append(dict_labels.get(indices[i], \"\"))\n",
    "    \n",
    "new_labels"
   ]
  },
  {
   "cell_type": "code",
   "execution_count": 23,
   "metadata": {},
   "outputs": [],
   "source": [
    "preds = clf.predict(X_valid)"
   ]
  },
  {
   "cell_type": "code",
   "execution_count": 63,
   "metadata": {
    "scrolled": true
   },
   "outputs": [
    {
     "data": {
      "text/plain": [
       "(array([0., 0., 0., 0., 0., 0., 0., 0., 0., 0., 0., 0., 0., 0., 0., 0., 0.,\n",
       "        0., 0., 0., 0., 0., 0., 0., 0., 0., 0., 0., 0., 0., 0., 0., 0., 0.,\n",
       "        0., 0., 0., 0., 0., 0., 0., 0., 0., 0., 0., 0., 0., 0., 0., 0., 0.,\n",
       "        0., 0., 0., 0., 0., 0., 0., 0., 0., 0., 0., 0., 0., 0., 0., 0., 0.,\n",
       "        0., 0., 0., 0., 0., 0., 0., 0., 0., 0., 0., 0., 0., 0., 0., 0., 0.,\n",
       "        0., 0., 0., 0., 0., 0., 0., 0., 0., 0., 0., 0., 0., 0., 0., 0., 0.,\n",
       "        0., 0., 0., 0., 0., 0., 0., 0., 0., 0., 0., 0., 0., 0., 0., 0., 0.,\n",
       "        0., 0., 0., 0., 0., 0., 0., 0., 0., 0., 0., 0., 0., 0., 0., 0., 0.,\n",
       "        0., 0., 0., 0., 0., 0., 0., 0., 0., 0., 0., 0., 0., 0., 0., 0., 0.,\n",
       "        0., 0., 0., 0., 0., 0., 0., 0., 0., 0., 0., 0., 0., 0., 0., 0., 0.,\n",
       "        0., 0., 0., 0., 0., 0., 0., 0., 0., 0., 0., 0., 0., 0., 0., 0., 0.,\n",
       "        0., 0., 0., 0., 0., 0., 0., 0., 0., 0., 0., 0., 0.]), 0.0)"
      ]
     },
     "execution_count": 63,
     "metadata": {},
     "output_type": "execute_result"
    }
   ],
   "source": [
    "predictions = np.stack([t.predict(X_valid) for t in clf.estimators_])\n",
    "predictions[:,1000], np.mean(predictions[:,1000])"
   ]
  },
  {
   "cell_type": "code",
   "execution_count": 64,
   "metadata": {},
   "outputs": [
    {
     "data": {
      "image/png": "[encoded data removed]",
      "text/plain": [
       "<Figure size 432x288 with 1 Axes>"
      ]
     },
     "metadata": {
      "needs_background": "light"
     },
     "output_type": "display_data"
    }
   ],
   "source": [
    "plt.plot([metrics.r2_score(y_valid, np.mean(predictions[:i+1], axis=0)) for i in range(num_decision_trees)]);"
   ]
  },
  {
   "cell_type": "code",
   "execution_count": null,
   "metadata": {},
   "outputs": [],
   "source": [
    "def train_cats(df):\n",
    "    \"\"\"Change any columns of strings in a panda's dataframe to a column of\n",
    "    categorical values. This applies the changes inplace.\n",
    "    Parameters:\n",
    "    -----------\n",
    "    df: A pandas dataframe. Any columns of strings will be changed to\n",
    "        categorical values.\n",
    "    Examples:\n",
    "    ---------\n",
    "    >>> df = pd.DataFrame({'col1' : [1, 2, 3], 'col2' : ['a', 'b', 'a']})\n",
    "    >>> df\n",
    "       col1 col2\n",
    "    0     1    a\n",
    "    1     2    b\n",
    "    2     3    a\n",
    "    note the type of col2 is string\n",
    "    >>> train_cats(df)\n",
    "    >>> df\n",
    "       col1 col2\n",
    "    0     1    a\n",
    "    1     2    b\n",
    "    2     3    a\n",
    "    now the type of col2 is category\n",
    "    \"\"\"\n",
    "    for n,c in df.items():\n",
    "        if is_string_dtype(c): df[n] = c.astype('category').cat.as_ordered()"
   ]
  },
  {
   "cell_type": "code",
   "execution_count": 36,
   "metadata": {},
   "outputs": [
    {
     "data": {
      "text/html": [
       "<div>\n",
       "<style scoped>\n",
       "    .dataframe tbody tr th:only-of-type {\n",
       "        vertical-align: middle;\n",
       "    }\n",
       "\n",
       "    .dataframe tbody tr th {\n",
       "        vertical-align: top;\n",
       "    }\n",
       "\n",
       "    .dataframe thead th {\n",
       "        text-align: right;\n",
       "    }\n",
       "</style>\n",
       "<table border=\"1\" class=\"dataframe\">\n",
       "  <thead>\n",
       "    <tr style=\"text-align: right;\">\n",
       "      <th></th>\n",
       "      <th>customer</th>\n",
       "    </tr>\n",
       "  </thead>\n",
       "  <tbody>\n",
       "    <tr>\n",
       "      <th>0</th>\n",
       "      <td>2</td>\n",
       "    </tr>\n",
       "    <tr>\n",
       "      <th>1</th>\n",
       "      <td>0</td>\n",
       "    </tr>\n",
       "    <tr>\n",
       "      <th>2</th>\n",
       "      <td>1</td>\n",
       "    </tr>\n",
       "  </tbody>\n",
       "</table>\n",
       "</div>"
      ],
      "text/plain": [
       "   customer\n",
       "0         2\n",
       "1         0\n",
       "2         1"
      ]
     },
     "execution_count": 36,
     "metadata": {},
     "output_type": "execute_result"
    }
   ],
   "source": [
    "df = pd.DataFrame({'customer' : [2, 0, 1]})\n",
    "df"
   ]
  },
  {
   "cell_type": "code",
   "execution_count": 37,
   "metadata": {},
   "outputs": [
    {
     "data": {
      "text/plain": [
       "['Single', 'Married', 'Widowed']"
      ]
     },
     "execution_count": 37,
     "metadata": {},
     "output_type": "execute_result"
    }
   ],
   "source": [
    "label_names = ['Single', 'Married', 'Widowed']\n",
    "label_names"
   ]
  },
  {
   "cell_type": "code",
   "execution_count": 39,
   "metadata": {},
   "outputs": [
    {
     "data": {
      "text/html": [
       "<div>\n",
       "<style scoped>\n",
       "    .dataframe tbody tr th:only-of-type {\n",
       "        vertical-align: middle;\n",
       "    }\n",
       "\n",
       "    .dataframe tbody tr th {\n",
       "        vertical-align: top;\n",
       "    }\n",
       "\n",
       "    .dataframe thead th {\n",
       "        text-align: right;\n",
       "    }\n",
       "</style>\n",
       "<table border=\"1\" class=\"dataframe\">\n",
       "  <thead>\n",
       "    <tr style=\"text-align: right;\">\n",
       "      <th></th>\n",
       "      <th>customer</th>\n",
       "    </tr>\n",
       "  </thead>\n",
       "  <tbody>\n",
       "    <tr>\n",
       "      <th>0</th>\n",
       "      <td>Widowed</td>\n",
       "    </tr>\n",
       "    <tr>\n",
       "      <th>1</th>\n",
       "      <td>Single</td>\n",
       "    </tr>\n",
       "    <tr>\n",
       "      <th>2</th>\n",
       "      <td>Married</td>\n",
       "    </tr>\n",
       "  </tbody>\n",
       "</table>\n",
       "</div>"
      ],
      "text/plain": [
       "  customer\n",
       "0  Widowed\n",
       "1   Single\n",
       "2  Married"
      ]
     },
     "execution_count": 39,
     "metadata": {},
     "output_type": "execute_result"
    }
   ],
   "source": [
    "df['customer'] = pd.CategoricalIndex(df['customer'].map(dict(enumerate(label_names))),\n",
    "                                     ordered=True, \n",
    "                                     categories=label_names)\n",
    "#df['customer'] = label_names\n",
    "df['customer'] = df['customer'].astype('category')\n",
    "df"
   ]
  },
  {
   "cell_type": "code",
   "execution_count": 40,
   "metadata": {},
   "outputs": [
    {
     "data": {
      "text/plain": [
       "Index(['customer'], dtype='object')"
      ]
     },
     "execution_count": 40,
     "metadata": {},
     "output_type": "execute_result"
    }
   ],
   "source": [
    "df.columns"
   ]
  },
  {
   "cell_type": "code",
   "execution_count": 41,
   "metadata": {},
   "outputs": [
    {
     "data": {
      "text/plain": [
       "Index(['Single', 'Married', 'Widowed'], dtype='object')"
      ]
     },
     "execution_count": 41,
     "metadata": {},
     "output_type": "execute_result"
    }
   ],
   "source": [
    "df['customer'].cat.categories"
   ]
  },
  {
   "cell_type": "code",
   "execution_count": 42,
   "metadata": {},
   "outputs": [
    {
     "data": {
      "text/plain": [
       "0    2\n",
       "1    0\n",
       "2    1\n",
       "dtype: int8"
      ]
     },
     "execution_count": 42,
     "metadata": {},
     "output_type": "execute_result"
    }
   ],
   "source": [
    "df['customer'].cat.codes"
   ]
  },
  {
   "cell_type": "code",
   "execution_count": 43,
   "metadata": {},
   "outputs": [
    {
     "data": {
      "text/plain": [
       "'category:dense'"
      ]
     },
     "execution_count": 43,
     "metadata": {},
     "output_type": "execute_result"
    }
   ],
   "source": [
    "df['customer'].ftype"
   ]
  },
  {
   "cell_type": "code",
   "execution_count": 44,
   "metadata": {},
   "outputs": [
    {
     "data": {
      "text/plain": [
       "CategoricalDtype(categories=['Single', 'Married', 'Widowed'], ordered=True)"
      ]
     },
     "execution_count": 44,
     "metadata": {},
     "output_type": "execute_result"
    }
   ],
   "source": [
    "df['customer'].dtype"
   ]
  },
  {
   "cell_type": "code",
   "execution_count": 45,
   "metadata": {},
   "outputs": [
    {
     "data": {
      "text/html": [
       "<div>\n",
       "<style scoped>\n",
       "    .dataframe tbody tr th:only-of-type {\n",
       "        vertical-align: middle;\n",
       "    }\n",
       "\n",
       "    .dataframe tbody tr th {\n",
       "        vertical-align: top;\n",
       "    }\n",
       "\n",
       "    .dataframe thead th {\n",
       "        text-align: right;\n",
       "    }\n",
       "</style>\n",
       "<table border=\"1\" class=\"dataframe\">\n",
       "  <thead>\n",
       "    <tr style=\"text-align: right;\">\n",
       "      <th></th>\n",
       "      <th>customer</th>\n",
       "    </tr>\n",
       "  </thead>\n",
       "  <tbody>\n",
       "    <tr>\n",
       "      <th>0</th>\n",
       "      <td>Widowed</td>\n",
       "    </tr>\n",
       "    <tr>\n",
       "      <th>1</th>\n",
       "      <td>Single</td>\n",
       "    </tr>\n",
       "    <tr>\n",
       "      <th>2</th>\n",
       "      <td>Married</td>\n",
       "    </tr>\n",
       "  </tbody>\n",
       "</table>\n",
       "</div>"
      ],
      "text/plain": [
       "  customer\n",
       "0  Widowed\n",
       "1   Single\n",
       "2  Married"
      ]
     },
     "execution_count": 45,
     "metadata": {},
     "output_type": "execute_result"
    }
   ],
   "source": [
    "df"
   ]
  },
  {
   "cell_type": "markdown",
   "metadata": {},
   "source": [
    "# Hyperparameter tuning GRID SEARCH!"
   ]
  },
  {
   "cell_type": "code",
   "execution_count": null,
   "metadata": {},
   "outputs": [],
   "source": []
  }
 ],
 "metadata": {
  "kernelspec": {
   "display_name": "Python 3",
   "language": "python",
   "name": "python3"
  },
  "language_info": {
   "codemirror_mode": {
    "name": "ipython",
    "version": 3
   },
   "file_extension": ".py",
   "mimetype": "text/x-python",
   "name": "python",
   "nbconvert_exporter": "python",
   "pygments_lexer": "ipython3",
   "version": "3.6.8"
  }
 },
 "nbformat": 4,
 "nbformat_minor": 2
}
